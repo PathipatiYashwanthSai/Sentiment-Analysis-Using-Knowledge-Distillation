{
  "nbformat": 4,
  "nbformat_minor": 0,
  "metadata": {
    "colab": {
      "provenance": [],
      "gpuType": "A100",
      "machine_shape": "hm"
    },
    "kernelspec": {
      "name": "python3",
      "display_name": "Python 3"
    },
    "language_info": {
      "name": "python"
    },
    "accelerator": "GPU"
  },
  "cells": [
    {
      "cell_type": "markdown",
      "source": [
        "# Installing Necessary Modules"
      ],
      "metadata": {
        "id": "a5BpGcfNjsC7"
      }
    },
    {
      "cell_type": "code",
      "execution_count": null,
      "metadata": {
        "colab": {
          "base_uri": "https://localhost:8080/"
        },
        "collapsed": true,
        "id": "wSXtF9CJOZ3Q",
        "outputId": "384eb8e3-0dae-4452-ab0d-8573d9755cf9"
      },
      "outputs": [
        {
          "output_type": "stream",
          "name": "stdout",
          "text": [
            "Requirement already satisfied: transformers in /usr/local/lib/python3.11/dist-packages (4.51.1)\n",
            "Requirement already satisfied: filelock in /usr/local/lib/python3.11/dist-packages (from transformers) (3.18.0)\n",
            "Requirement already satisfied: huggingface-hub<1.0,>=0.30.0 in /usr/local/lib/python3.11/dist-packages (from transformers) (0.30.2)\n",
            "Requirement already satisfied: numpy>=1.17 in /usr/local/lib/python3.11/dist-packages (from transformers) (2.0.2)\n",
            "Requirement already satisfied: packaging>=20.0 in /usr/local/lib/python3.11/dist-packages (from transformers) (24.2)\n",
            "Requirement already satisfied: pyyaml>=5.1 in /usr/local/lib/python3.11/dist-packages (from transformers) (6.0.2)\n",
            "Requirement already satisfied: regex!=2019.12.17 in /usr/local/lib/python3.11/dist-packages (from transformers) (2024.11.6)\n",
            "Requirement already satisfied: requests in /usr/local/lib/python3.11/dist-packages (from transformers) (2.32.3)\n",
            "Requirement already satisfied: tokenizers<0.22,>=0.21 in /usr/local/lib/python3.11/dist-packages (from transformers) (0.21.1)\n",
            "Requirement already satisfied: safetensors>=0.4.3 in /usr/local/lib/python3.11/dist-packages (from transformers) (0.5.3)\n",
            "Requirement already satisfied: tqdm>=4.27 in /usr/local/lib/python3.11/dist-packages (from transformers) (4.67.1)\n",
            "Requirement already satisfied: fsspec>=2023.5.0 in /usr/local/lib/python3.11/dist-packages (from huggingface-hub<1.0,>=0.30.0->transformers) (2025.3.2)\n",
            "Requirement already satisfied: typing-extensions>=3.7.4.3 in /usr/local/lib/python3.11/dist-packages (from huggingface-hub<1.0,>=0.30.0->transformers) (4.13.1)\n",
            "Requirement already satisfied: charset-normalizer<4,>=2 in /usr/local/lib/python3.11/dist-packages (from requests->transformers) (3.4.1)\n",
            "Requirement already satisfied: idna<4,>=2.5 in /usr/local/lib/python3.11/dist-packages (from requests->transformers) (3.10)\n",
            "Requirement already satisfied: urllib3<3,>=1.21.1 in /usr/local/lib/python3.11/dist-packages (from requests->transformers) (2.3.0)\n",
            "Requirement already satisfied: certifi>=2017.4.17 in /usr/local/lib/python3.11/dist-packages (from requests->transformers) (2025.1.31)\n",
            "Collecting datasets\n",
            "  Downloading datasets-3.5.0-py3-none-any.whl.metadata (19 kB)\n",
            "Requirement already satisfied: filelock in /usr/local/lib/python3.11/dist-packages (from datasets) (3.18.0)\n",
            "Requirement already satisfied: numpy>=1.17 in /usr/local/lib/python3.11/dist-packages (from datasets) (2.0.2)\n",
            "Requirement already satisfied: pyarrow>=15.0.0 in /usr/local/lib/python3.11/dist-packages (from datasets) (18.1.0)\n",
            "Collecting dill<0.3.9,>=0.3.0 (from datasets)\n",
            "  Downloading dill-0.3.8-py3-none-any.whl.metadata (10 kB)\n",
            "Requirement already satisfied: pandas in /usr/local/lib/python3.11/dist-packages (from datasets) (2.2.2)\n",
            "Requirement already satisfied: requests>=2.32.2 in /usr/local/lib/python3.11/dist-packages (from datasets) (2.32.3)\n",
            "Requirement already satisfied: tqdm>=4.66.3 in /usr/local/lib/python3.11/dist-packages (from datasets) (4.67.1)\n",
            "Collecting xxhash (from datasets)\n",
            "  Downloading xxhash-3.5.0-cp311-cp311-manylinux_2_17_x86_64.manylinux2014_x86_64.whl.metadata (12 kB)\n",
            "Collecting multiprocess<0.70.17 (from datasets)\n",
            "  Downloading multiprocess-0.70.16-py311-none-any.whl.metadata (7.2 kB)\n",
            "Collecting fsspec<=2024.12.0,>=2023.1.0 (from fsspec[http]<=2024.12.0,>=2023.1.0->datasets)\n",
            "  Downloading fsspec-2024.12.0-py3-none-any.whl.metadata (11 kB)\n",
            "Requirement already satisfied: aiohttp in /usr/local/lib/python3.11/dist-packages (from datasets) (3.11.15)\n",
            "Requirement already satisfied: huggingface-hub>=0.24.0 in /usr/local/lib/python3.11/dist-packages (from datasets) (0.30.2)\n",
            "Requirement already satisfied: packaging in /usr/local/lib/python3.11/dist-packages (from datasets) (24.2)\n",
            "Requirement already satisfied: pyyaml>=5.1 in /usr/local/lib/python3.11/dist-packages (from datasets) (6.0.2)\n",
            "Requirement already satisfied: aiohappyeyeballs>=2.3.0 in /usr/local/lib/python3.11/dist-packages (from aiohttp->datasets) (2.6.1)\n",
            "Requirement already satisfied: aiosignal>=1.1.2 in /usr/local/lib/python3.11/dist-packages (from aiohttp->datasets) (1.3.2)\n",
            "Requirement already satisfied: attrs>=17.3.0 in /usr/local/lib/python3.11/dist-packages (from aiohttp->datasets) (25.3.0)\n",
            "Requirement already satisfied: frozenlist>=1.1.1 in /usr/local/lib/python3.11/dist-packages (from aiohttp->datasets) (1.5.0)\n",
            "Requirement already satisfied: multidict<7.0,>=4.5 in /usr/local/lib/python3.11/dist-packages (from aiohttp->datasets) (6.4.2)\n",
            "Requirement already satisfied: propcache>=0.2.0 in /usr/local/lib/python3.11/dist-packages (from aiohttp->datasets) (0.3.1)\n",
            "Requirement already satisfied: yarl<2.0,>=1.17.0 in /usr/local/lib/python3.11/dist-packages (from aiohttp->datasets) (1.19.0)\n",
            "Requirement already satisfied: typing-extensions>=3.7.4.3 in /usr/local/lib/python3.11/dist-packages (from huggingface-hub>=0.24.0->datasets) (4.13.1)\n",
            "Requirement already satisfied: charset-normalizer<4,>=2 in /usr/local/lib/python3.11/dist-packages (from requests>=2.32.2->datasets) (3.4.1)\n",
            "Requirement already satisfied: idna<4,>=2.5 in /usr/local/lib/python3.11/dist-packages (from requests>=2.32.2->datasets) (3.10)\n",
            "Requirement already satisfied: urllib3<3,>=1.21.1 in /usr/local/lib/python3.11/dist-packages (from requests>=2.32.2->datasets) (2.3.0)\n",
            "Requirement already satisfied: certifi>=2017.4.17 in /usr/local/lib/python3.11/dist-packages (from requests>=2.32.2->datasets) (2025.1.31)\n",
            "Requirement already satisfied: python-dateutil>=2.8.2 in /usr/local/lib/python3.11/dist-packages (from pandas->datasets) (2.8.2)\n",
            "Requirement already satisfied: pytz>=2020.1 in /usr/local/lib/python3.11/dist-packages (from pandas->datasets) (2025.2)\n",
            "Requirement already satisfied: tzdata>=2022.7 in /usr/local/lib/python3.11/dist-packages (from pandas->datasets) (2025.2)\n",
            "Requirement already satisfied: six>=1.5 in /usr/local/lib/python3.11/dist-packages (from python-dateutil>=2.8.2->pandas->datasets) (1.17.0)\n",
            "Downloading datasets-3.5.0-py3-none-any.whl (491 kB)\n",
            "\u001b[2K   \u001b[90m━━━━━━━━━━━━━━━━━━━━━━━━━━━━━━━━━━━━━━━━\u001b[0m \u001b[32m491.2/491.2 kB\u001b[0m \u001b[31m8.9 MB/s\u001b[0m eta \u001b[36m0:00:00\u001b[0m\n",
            "\u001b[?25hDownloading dill-0.3.8-py3-none-any.whl (116 kB)\n",
            "\u001b[2K   \u001b[90m━━━━━━━━━━━━━━━━━━━━━━━━━━━━━━━━━━━━━━━━\u001b[0m \u001b[32m116.3/116.3 kB\u001b[0m \u001b[31m8.7 MB/s\u001b[0m eta \u001b[36m0:00:00\u001b[0m\n",
            "\u001b[?25hDownloading fsspec-2024.12.0-py3-none-any.whl (183 kB)\n",
            "\u001b[2K   \u001b[90m━━━━━━━━━━━━━━━━━━━━━━━━━━━━━━━━━━━━━━━━\u001b[0m \u001b[32m183.9/183.9 kB\u001b[0m \u001b[31m15.3 MB/s\u001b[0m eta \u001b[36m0:00:00\u001b[0m\n",
            "\u001b[?25hDownloading multiprocess-0.70.16-py311-none-any.whl (143 kB)\n",
            "\u001b[2K   \u001b[90m━━━━━━━━━━━━━━━━━━━━━━━━━━━━━━━━━━━━━━━━\u001b[0m \u001b[32m143.5/143.5 kB\u001b[0m \u001b[31m10.8 MB/s\u001b[0m eta \u001b[36m0:00:00\u001b[0m\n",
            "\u001b[?25hDownloading xxhash-3.5.0-cp311-cp311-manylinux_2_17_x86_64.manylinux2014_x86_64.whl (194 kB)\n",
            "\u001b[2K   \u001b[90m━━━━━━━━━━━━━━━━━━━━━━━━━━━━━━━━━━━━━━━━\u001b[0m \u001b[32m194.8/194.8 kB\u001b[0m \u001b[31m13.6 MB/s\u001b[0m eta \u001b[36m0:00:00\u001b[0m\n",
            "\u001b[?25hInstalling collected packages: xxhash, fsspec, dill, multiprocess, datasets\n",
            "  Attempting uninstall: fsspec\n",
            "    Found existing installation: fsspec 2025.3.2\n",
            "    Uninstalling fsspec-2025.3.2:\n",
            "      Successfully uninstalled fsspec-2025.3.2\n",
            "\u001b[31mERROR: pip's dependency resolver does not currently take into account all the packages that are installed. This behaviour is the source of the following dependency conflicts.\n",
            "gcsfs 2025.3.2 requires fsspec==2025.3.2, but you have fsspec 2024.12.0 which is incompatible.\n",
            "torch 2.6.0+cu124 requires nvidia-cublas-cu12==12.4.5.8; platform_system == \"Linux\" and platform_machine == \"x86_64\", but you have nvidia-cublas-cu12 12.5.3.2 which is incompatible.\n",
            "torch 2.6.0+cu124 requires nvidia-cuda-cupti-cu12==12.4.127; platform_system == \"Linux\" and platform_machine == \"x86_64\", but you have nvidia-cuda-cupti-cu12 12.5.82 which is incompatible.\n",
            "torch 2.6.0+cu124 requires nvidia-cuda-nvrtc-cu12==12.4.127; platform_system == \"Linux\" and platform_machine == \"x86_64\", but you have nvidia-cuda-nvrtc-cu12 12.5.82 which is incompatible.\n",
            "torch 2.6.0+cu124 requires nvidia-cuda-runtime-cu12==12.4.127; platform_system == \"Linux\" and platform_machine == \"x86_64\", but you have nvidia-cuda-runtime-cu12 12.5.82 which is incompatible.\n",
            "torch 2.6.0+cu124 requires nvidia-cudnn-cu12==9.1.0.70; platform_system == \"Linux\" and platform_machine == \"x86_64\", but you have nvidia-cudnn-cu12 9.3.0.75 which is incompatible.\n",
            "torch 2.6.0+cu124 requires nvidia-cufft-cu12==11.2.1.3; platform_system == \"Linux\" and platform_machine == \"x86_64\", but you have nvidia-cufft-cu12 11.2.3.61 which is incompatible.\n",
            "torch 2.6.0+cu124 requires nvidia-curand-cu12==10.3.5.147; platform_system == \"Linux\" and platform_machine == \"x86_64\", but you have nvidia-curand-cu12 10.3.6.82 which is incompatible.\n",
            "torch 2.6.0+cu124 requires nvidia-cusolver-cu12==11.6.1.9; platform_system == \"Linux\" and platform_machine == \"x86_64\", but you have nvidia-cusolver-cu12 11.6.3.83 which is incompatible.\n",
            "torch 2.6.0+cu124 requires nvidia-cusparse-cu12==12.3.1.170; platform_system == \"Linux\" and platform_machine == \"x86_64\", but you have nvidia-cusparse-cu12 12.5.1.3 which is incompatible.\n",
            "torch 2.6.0+cu124 requires nvidia-nvjitlink-cu12==12.4.127; platform_system == \"Linux\" and platform_machine == \"x86_64\", but you have nvidia-nvjitlink-cu12 12.5.82 which is incompatible.\u001b[0m\u001b[31m\n",
            "\u001b[0mSuccessfully installed datasets-3.5.0 dill-0.3.8 fsspec-2024.12.0 multiprocess-0.70.16 xxhash-3.5.0\n",
            "Collecting py7zr\n",
            "  Downloading py7zr-0.22.0-py3-none-any.whl.metadata (16 kB)\n",
            "Collecting texttable (from py7zr)\n",
            "  Downloading texttable-1.7.0-py2.py3-none-any.whl.metadata (9.8 kB)\n",
            "Collecting pycryptodomex>=3.16.0 (from py7zr)\n",
            "  Downloading pycryptodomex-3.22.0-cp37-abi3-manylinux_2_17_x86_64.manylinux2014_x86_64.whl.metadata (3.4 kB)\n",
            "Collecting pyzstd>=0.15.9 (from py7zr)\n",
            "  Downloading pyzstd-0.16.2-cp311-cp311-manylinux_2_17_x86_64.manylinux2014_x86_64.whl.metadata (2.4 kB)\n",
            "Collecting pyppmd<1.2.0,>=1.1.0 (from py7zr)\n",
            "  Downloading pyppmd-1.1.1-cp311-cp311-manylinux_2_17_x86_64.manylinux2014_x86_64.whl.metadata (5.5 kB)\n",
            "Collecting pybcj<1.1.0,>=1.0.0 (from py7zr)\n",
            "  Downloading pybcj-1.0.3-cp311-cp311-manylinux_2_17_x86_64.manylinux2014_x86_64.whl.metadata (3.9 kB)\n",
            "Collecting multivolumefile>=0.2.3 (from py7zr)\n",
            "  Downloading multivolumefile-0.2.3-py3-none-any.whl.metadata (6.3 kB)\n",
            "Collecting inflate64<1.1.0,>=1.0.0 (from py7zr)\n",
            "  Downloading inflate64-1.0.1-cp311-cp311-manylinux_2_17_x86_64.manylinux2014_x86_64.whl.metadata (3.8 kB)\n",
            "Collecting brotli>=1.1.0 (from py7zr)\n",
            "  Downloading Brotli-1.1.0-cp311-cp311-manylinux_2_17_x86_64.manylinux2014_x86_64.whl.metadata (5.5 kB)\n",
            "Requirement already satisfied: psutil in /usr/local/lib/python3.11/dist-packages (from py7zr) (5.9.5)\n",
            "Downloading py7zr-0.22.0-py3-none-any.whl (67 kB)\n",
            "\u001b[2K   \u001b[90m━━━━━━━━━━━━━━━━━━━━━━━━━━━━━━━━━━━━━━━━\u001b[0m \u001b[32m67.9/67.9 kB\u001b[0m \u001b[31m2.6 MB/s\u001b[0m eta \u001b[36m0:00:00\u001b[0m\n",
            "\u001b[?25hDownloading Brotli-1.1.0-cp311-cp311-manylinux_2_17_x86_64.manylinux2014_x86_64.whl (2.9 MB)\n",
            "\u001b[2K   \u001b[90m━━━━━━━━━━━━━━━━━━━━━━━━━━━━━━━━━━━━━━━━\u001b[0m \u001b[32m2.9/2.9 MB\u001b[0m \u001b[31m40.0 MB/s\u001b[0m eta \u001b[36m0:00:00\u001b[0m\n",
            "\u001b[?25hDownloading inflate64-1.0.1-cp311-cp311-manylinux_2_17_x86_64.manylinux2014_x86_64.whl (96 kB)\n",
            "\u001b[2K   \u001b[90m━━━━━━━━━━━━━━━━━━━━━━━━━━━━━━━━━━━━━━━━\u001b[0m \u001b[32m96.2/96.2 kB\u001b[0m \u001b[31m8.4 MB/s\u001b[0m eta \u001b[36m0:00:00\u001b[0m\n",
            "\u001b[?25hDownloading multivolumefile-0.2.3-py3-none-any.whl (17 kB)\n",
            "Downloading pybcj-1.0.3-cp311-cp311-manylinux_2_17_x86_64.manylinux2014_x86_64.whl (50 kB)\n",
            "\u001b[2K   \u001b[90m━━━━━━━━━━━━━━━━━━━━━━━━━━━━━━━━━━━━━━━━\u001b[0m \u001b[32m50.6/50.6 kB\u001b[0m \u001b[31m3.7 MB/s\u001b[0m eta \u001b[36m0:00:00\u001b[0m\n",
            "\u001b[?25hDownloading pycryptodomex-3.22.0-cp37-abi3-manylinux_2_17_x86_64.manylinux2014_x86_64.whl (2.3 MB)\n",
            "\u001b[2K   \u001b[90m━━━━━━━━━━━━━━━━━━━━━━━━━━━━━━━━━━━━━━━━\u001b[0m \u001b[32m2.3/2.3 MB\u001b[0m \u001b[31m73.8 MB/s\u001b[0m eta \u001b[36m0:00:00\u001b[0m\n",
            "\u001b[?25hDownloading pyppmd-1.1.1-cp311-cp311-manylinux_2_17_x86_64.manylinux2014_x86_64.whl (141 kB)\n",
            "\u001b[2K   \u001b[90m━━━━━━━━━━━━━━━━━━━━━━━━━━━━━━━━━━━━━━━━\u001b[0m \u001b[32m141.3/141.3 kB\u001b[0m \u001b[31m10.6 MB/s\u001b[0m eta \u001b[36m0:00:00\u001b[0m\n",
            "\u001b[?25hDownloading pyzstd-0.16.2-cp311-cp311-manylinux_2_17_x86_64.manylinux2014_x86_64.whl (413 kB)\n",
            "\u001b[2K   \u001b[90m━━━━━━━━━━━━━━━━━━━━━━━━━━━━━━━━━━━━━━━━\u001b[0m \u001b[32m413.7/413.7 kB\u001b[0m \u001b[31m31.4 MB/s\u001b[0m eta \u001b[36m0:00:00\u001b[0m\n",
            "\u001b[?25hDownloading texttable-1.7.0-py2.py3-none-any.whl (10 kB)\n",
            "Installing collected packages: texttable, brotli, pyzstd, pyppmd, pycryptodomex, pybcj, multivolumefile, inflate64, py7zr\n",
            "Successfully installed brotli-1.1.0 inflate64-1.0.1 multivolumefile-0.2.3 py7zr-0.22.0 pybcj-1.0.3 pycryptodomex-3.22.0 pyppmd-1.1.1 pyzstd-0.16.2 texttable-1.7.0\n",
            "Requirement already satisfied: peft in /usr/local/lib/python3.11/dist-packages (0.14.0)\n",
            "Requirement already satisfied: numpy>=1.17 in /usr/local/lib/python3.11/dist-packages (from peft) (2.0.2)\n",
            "Requirement already satisfied: packaging>=20.0 in /usr/local/lib/python3.11/dist-packages (from peft) (24.2)\n",
            "Requirement already satisfied: psutil in /usr/local/lib/python3.11/dist-packages (from peft) (5.9.5)\n",
            "Requirement already satisfied: pyyaml in /usr/local/lib/python3.11/dist-packages (from peft) (6.0.2)\n",
            "Requirement already satisfied: torch>=1.13.0 in /usr/local/lib/python3.11/dist-packages (from peft) (2.6.0+cu124)\n",
            "Requirement already satisfied: transformers in /usr/local/lib/python3.11/dist-packages (from peft) (4.51.1)\n",
            "Requirement already satisfied: tqdm in /usr/local/lib/python3.11/dist-packages (from peft) (4.67.1)\n",
            "Requirement already satisfied: accelerate>=0.21.0 in /usr/local/lib/python3.11/dist-packages (from peft) (1.5.2)\n",
            "Requirement already satisfied: safetensors in /usr/local/lib/python3.11/dist-packages (from peft) (0.5.3)\n",
            "Requirement already satisfied: huggingface-hub>=0.25.0 in /usr/local/lib/python3.11/dist-packages (from peft) (0.30.2)\n",
            "Requirement already satisfied: filelock in /usr/local/lib/python3.11/dist-packages (from huggingface-hub>=0.25.0->peft) (3.18.0)\n",
            "Requirement already satisfied: fsspec>=2023.5.0 in /usr/local/lib/python3.11/dist-packages (from huggingface-hub>=0.25.0->peft) (2024.12.0)\n",
            "Requirement already satisfied: requests in /usr/local/lib/python3.11/dist-packages (from huggingface-hub>=0.25.0->peft) (2.32.3)\n",
            "Requirement already satisfied: typing-extensions>=3.7.4.3 in /usr/local/lib/python3.11/dist-packages (from huggingface-hub>=0.25.0->peft) (4.13.1)\n",
            "Requirement already satisfied: networkx in /usr/local/lib/python3.11/dist-packages (from torch>=1.13.0->peft) (3.4.2)\n",
            "Requirement already satisfied: jinja2 in /usr/local/lib/python3.11/dist-packages (from torch>=1.13.0->peft) (3.1.6)\n",
            "Collecting nvidia-cuda-nvrtc-cu12==12.4.127 (from torch>=1.13.0->peft)\n",
            "  Downloading nvidia_cuda_nvrtc_cu12-12.4.127-py3-none-manylinux2014_x86_64.whl.metadata (1.5 kB)\n",
            "Collecting nvidia-cuda-runtime-cu12==12.4.127 (from torch>=1.13.0->peft)\n",
            "  Downloading nvidia_cuda_runtime_cu12-12.4.127-py3-none-manylinux2014_x86_64.whl.metadata (1.5 kB)\n",
            "Collecting nvidia-cuda-cupti-cu12==12.4.127 (from torch>=1.13.0->peft)\n",
            "  Downloading nvidia_cuda_cupti_cu12-12.4.127-py3-none-manylinux2014_x86_64.whl.metadata (1.6 kB)\n",
            "Collecting nvidia-cudnn-cu12==9.1.0.70 (from torch>=1.13.0->peft)\n",
            "  Downloading nvidia_cudnn_cu12-9.1.0.70-py3-none-manylinux2014_x86_64.whl.metadata (1.6 kB)\n",
            "Collecting nvidia-cublas-cu12==12.4.5.8 (from torch>=1.13.0->peft)\n",
            "  Downloading nvidia_cublas_cu12-12.4.5.8-py3-none-manylinux2014_x86_64.whl.metadata (1.5 kB)\n",
            "Collecting nvidia-cufft-cu12==11.2.1.3 (from torch>=1.13.0->peft)\n",
            "  Downloading nvidia_cufft_cu12-11.2.1.3-py3-none-manylinux2014_x86_64.whl.metadata (1.5 kB)\n",
            "Collecting nvidia-curand-cu12==10.3.5.147 (from torch>=1.13.0->peft)\n",
            "  Downloading nvidia_curand_cu12-10.3.5.147-py3-none-manylinux2014_x86_64.whl.metadata (1.5 kB)\n",
            "Collecting nvidia-cusolver-cu12==11.6.1.9 (from torch>=1.13.0->peft)\n",
            "  Downloading nvidia_cusolver_cu12-11.6.1.9-py3-none-manylinux2014_x86_64.whl.metadata (1.6 kB)\n",
            "Collecting nvidia-cusparse-cu12==12.3.1.170 (from torch>=1.13.0->peft)\n",
            "  Downloading nvidia_cusparse_cu12-12.3.1.170-py3-none-manylinux2014_x86_64.whl.metadata (1.6 kB)\n",
            "Requirement already satisfied: nvidia-cusparselt-cu12==0.6.2 in /usr/local/lib/python3.11/dist-packages (from torch>=1.13.0->peft) (0.6.2)\n",
            "Requirement already satisfied: nvidia-nccl-cu12==2.21.5 in /usr/local/lib/python3.11/dist-packages (from torch>=1.13.0->peft) (2.21.5)\n",
            "Requirement already satisfied: nvidia-nvtx-cu12==12.4.127 in /usr/local/lib/python3.11/dist-packages (from torch>=1.13.0->peft) (12.4.127)\n",
            "Collecting nvidia-nvjitlink-cu12==12.4.127 (from torch>=1.13.0->peft)\n",
            "  Downloading nvidia_nvjitlink_cu12-12.4.127-py3-none-manylinux2014_x86_64.whl.metadata (1.5 kB)\n",
            "Requirement already satisfied: triton==3.2.0 in /usr/local/lib/python3.11/dist-packages (from torch>=1.13.0->peft) (3.2.0)\n",
            "Requirement already satisfied: sympy==1.13.1 in /usr/local/lib/python3.11/dist-packages (from torch>=1.13.0->peft) (1.13.1)\n",
            "Requirement already satisfied: mpmath<1.4,>=1.1.0 in /usr/local/lib/python3.11/dist-packages (from sympy==1.13.1->torch>=1.13.0->peft) (1.3.0)\n",
            "Requirement already satisfied: regex!=2019.12.17 in /usr/local/lib/python3.11/dist-packages (from transformers->peft) (2024.11.6)\n",
            "Requirement already satisfied: tokenizers<0.22,>=0.21 in /usr/local/lib/python3.11/dist-packages (from transformers->peft) (0.21.1)\n",
            "Requirement already satisfied: MarkupSafe>=2.0 in /usr/local/lib/python3.11/dist-packages (from jinja2->torch>=1.13.0->peft) (3.0.2)\n",
            "Requirement already satisfied: charset-normalizer<4,>=2 in /usr/local/lib/python3.11/dist-packages (from requests->huggingface-hub>=0.25.0->peft) (3.4.1)\n",
            "Requirement already satisfied: idna<4,>=2.5 in /usr/local/lib/python3.11/dist-packages (from requests->huggingface-hub>=0.25.0->peft) (3.10)\n",
            "Requirement already satisfied: urllib3<3,>=1.21.1 in /usr/local/lib/python3.11/dist-packages (from requests->huggingface-hub>=0.25.0->peft) (2.3.0)\n",
            "Requirement already satisfied: certifi>=2017.4.17 in /usr/local/lib/python3.11/dist-packages (from requests->huggingface-hub>=0.25.0->peft) (2025.1.31)\n",
            "Downloading nvidia_cublas_cu12-12.4.5.8-py3-none-manylinux2014_x86_64.whl (363.4 MB)\n",
            "\u001b[2K   \u001b[90m━━━━━━━━━━━━━━━━━━━━━━━━━━━━━━━━━━━━━━━━\u001b[0m \u001b[32m363.4/363.4 MB\u001b[0m \u001b[31m2.8 MB/s\u001b[0m eta \u001b[36m0:00:00\u001b[0m\n",
            "\u001b[?25hDownloading nvidia_cuda_cupti_cu12-12.4.127-py3-none-manylinux2014_x86_64.whl (13.8 MB)\n",
            "\u001b[2K   \u001b[90m━━━━━━━━━━━━━━━━━━━━━━━━━━━━━━━━━━━━━━━━\u001b[0m \u001b[32m13.8/13.8 MB\u001b[0m \u001b[31m85.8 MB/s\u001b[0m eta \u001b[36m0:00:00\u001b[0m\n",
            "\u001b[?25hDownloading nvidia_cuda_nvrtc_cu12-12.4.127-py3-none-manylinux2014_x86_64.whl (24.6 MB)\n",
            "\u001b[2K   \u001b[90m━━━━━━━━━━━━━━━━━━━━━━━━━━━━━━━━━━━━━━━━\u001b[0m \u001b[32m24.6/24.6 MB\u001b[0m \u001b[31m77.7 MB/s\u001b[0m eta \u001b[36m0:00:00\u001b[0m\n",
            "\u001b[?25hDownloading nvidia_cuda_runtime_cu12-12.4.127-py3-none-manylinux2014_x86_64.whl (883 kB)\n",
            "\u001b[2K   \u001b[90m━━━━━━━━━━━━━━━━━━━━━━━━━━━━━━━━━━━━━━━━\u001b[0m \u001b[32m883.7/883.7 kB\u001b[0m \u001b[31m47.3 MB/s\u001b[0m eta \u001b[36m0:00:00\u001b[0m\n",
            "\u001b[?25hDownloading nvidia_cudnn_cu12-9.1.0.70-py3-none-manylinux2014_x86_64.whl (664.8 MB)\n",
            "\u001b[2K   \u001b[90m━━━━━━━━━━━━━━━━━━━━━━━━━━━━━━━━━━━━━━━━\u001b[0m \u001b[32m664.8/664.8 MB\u001b[0m \u001b[31m1.6 MB/s\u001b[0m eta \u001b[36m0:00:00\u001b[0m\n",
            "\u001b[?25hDownloading nvidia_cufft_cu12-11.2.1.3-py3-none-manylinux2014_x86_64.whl (211.5 MB)\n",
            "\u001b[2K   \u001b[90m━━━━━━━━━━━━━━━━━━━━━━━━━━━━━━━━━━━━━━━━\u001b[0m \u001b[32m211.5/211.5 MB\u001b[0m \u001b[31m10.8 MB/s\u001b[0m eta \u001b[36m0:00:00\u001b[0m\n",
            "\u001b[?25hDownloading nvidia_curand_cu12-10.3.5.147-py3-none-manylinux2014_x86_64.whl (56.3 MB)\n",
            "\u001b[2K   \u001b[90m━━━━━━━━━━━━━━━━━━━━━━━━━━━━━━━━━━━━━━━━\u001b[0m \u001b[32m56.3/56.3 MB\u001b[0m \u001b[31m39.5 MB/s\u001b[0m eta \u001b[36m0:00:00\u001b[0m\n",
            "\u001b[?25hDownloading nvidia_cusolver_cu12-11.6.1.9-py3-none-manylinux2014_x86_64.whl (127.9 MB)\n",
            "\u001b[2K   \u001b[90m━━━━━━━━━━━━━━━━━━━━━━━━━━━━━━━━━━━━━━━━\u001b[0m \u001b[32m127.9/127.9 MB\u001b[0m \u001b[31m18.0 MB/s\u001b[0m eta \u001b[36m0:00:00\u001b[0m\n",
            "\u001b[?25hDownloading nvidia_cusparse_cu12-12.3.1.170-py3-none-manylinux2014_x86_64.whl (207.5 MB)\n",
            "\u001b[2K   \u001b[90m━━━━━━━━━━━━━━━━━━━━━━━━━━━━━━━━━━━━━━━━\u001b[0m \u001b[32m207.5/207.5 MB\u001b[0m \u001b[31m5.6 MB/s\u001b[0m eta \u001b[36m0:00:00\u001b[0m\n",
            "\u001b[?25hDownloading nvidia_nvjitlink_cu12-12.4.127-py3-none-manylinux2014_x86_64.whl (21.1 MB)\n",
            "\u001b[2K   \u001b[90m━━━━━━━━━━━━━━━━━━━━━━━━━━━━━━━━━━━━━━━━\u001b[0m \u001b[32m21.1/21.1 MB\u001b[0m \u001b[31m95.9 MB/s\u001b[0m eta \u001b[36m0:00:00\u001b[0m\n",
            "\u001b[?25hInstalling collected packages: nvidia-nvjitlink-cu12, nvidia-curand-cu12, nvidia-cufft-cu12, nvidia-cuda-runtime-cu12, nvidia-cuda-nvrtc-cu12, nvidia-cuda-cupti-cu12, nvidia-cublas-cu12, nvidia-cusparse-cu12, nvidia-cudnn-cu12, nvidia-cusolver-cu12\n",
            "  Attempting uninstall: nvidia-nvjitlink-cu12\n",
            "    Found existing installation: nvidia-nvjitlink-cu12 12.5.82\n",
            "    Uninstalling nvidia-nvjitlink-cu12-12.5.82:\n",
            "      Successfully uninstalled nvidia-nvjitlink-cu12-12.5.82\n",
            "  Attempting uninstall: nvidia-curand-cu12\n",
            "    Found existing installation: nvidia-curand-cu12 10.3.6.82\n",
            "    Uninstalling nvidia-curand-cu12-10.3.6.82:\n",
            "      Successfully uninstalled nvidia-curand-cu12-10.3.6.82\n",
            "  Attempting uninstall: nvidia-cufft-cu12\n",
            "    Found existing installation: nvidia-cufft-cu12 11.2.3.61\n",
            "    Uninstalling nvidia-cufft-cu12-11.2.3.61:\n",
            "      Successfully uninstalled nvidia-cufft-cu12-11.2.3.61\n",
            "  Attempting uninstall: nvidia-cuda-runtime-cu12\n",
            "    Found existing installation: nvidia-cuda-runtime-cu12 12.5.82\n",
            "    Uninstalling nvidia-cuda-runtime-cu12-12.5.82:\n",
            "      Successfully uninstalled nvidia-cuda-runtime-cu12-12.5.82\n",
            "  Attempting uninstall: nvidia-cuda-nvrtc-cu12\n",
            "    Found existing installation: nvidia-cuda-nvrtc-cu12 12.5.82\n",
            "    Uninstalling nvidia-cuda-nvrtc-cu12-12.5.82:\n",
            "      Successfully uninstalled nvidia-cuda-nvrtc-cu12-12.5.82\n",
            "  Attempting uninstall: nvidia-cuda-cupti-cu12\n",
            "    Found existing installation: nvidia-cuda-cupti-cu12 12.5.82\n",
            "    Uninstalling nvidia-cuda-cupti-cu12-12.5.82:\n",
            "      Successfully uninstalled nvidia-cuda-cupti-cu12-12.5.82\n",
            "  Attempting uninstall: nvidia-cublas-cu12\n",
            "    Found existing installation: nvidia-cublas-cu12 12.5.3.2\n",
            "    Uninstalling nvidia-cublas-cu12-12.5.3.2:\n",
            "      Successfully uninstalled nvidia-cublas-cu12-12.5.3.2\n",
            "  Attempting uninstall: nvidia-cusparse-cu12\n",
            "    Found existing installation: nvidia-cusparse-cu12 12.5.1.3\n",
            "    Uninstalling nvidia-cusparse-cu12-12.5.1.3:\n",
            "      Successfully uninstalled nvidia-cusparse-cu12-12.5.1.3\n",
            "  Attempting uninstall: nvidia-cudnn-cu12\n",
            "    Found existing installation: nvidia-cudnn-cu12 9.3.0.75\n",
            "    Uninstalling nvidia-cudnn-cu12-9.3.0.75:\n",
            "      Successfully uninstalled nvidia-cudnn-cu12-9.3.0.75\n",
            "  Attempting uninstall: nvidia-cusolver-cu12\n",
            "    Found existing installation: nvidia-cusolver-cu12 11.6.3.83\n",
            "    Uninstalling nvidia-cusolver-cu12-11.6.3.83:\n",
            "      Successfully uninstalled nvidia-cusolver-cu12-11.6.3.83\n",
            "Successfully installed nvidia-cublas-cu12-12.4.5.8 nvidia-cuda-cupti-cu12-12.4.127 nvidia-cuda-nvrtc-cu12-12.4.127 nvidia-cuda-runtime-cu12-12.4.127 nvidia-cudnn-cu12-9.1.0.70 nvidia-cufft-cu12-11.2.1.3 nvidia-curand-cu12-10.3.5.147 nvidia-cusolver-cu12-11.6.1.9 nvidia-cusparse-cu12-12.3.1.170 nvidia-nvjitlink-cu12-12.4.127\n",
            "Collecting evaluate\n",
            "  Downloading evaluate-0.4.3-py3-none-any.whl.metadata (9.2 kB)\n",
            "Requirement already satisfied: datasets>=2.0.0 in /usr/local/lib/python3.11/dist-packages (from evaluate) (3.5.0)\n",
            "Requirement already satisfied: numpy>=1.17 in /usr/local/lib/python3.11/dist-packages (from evaluate) (2.0.2)\n",
            "Requirement already satisfied: dill in /usr/local/lib/python3.11/dist-packages (from evaluate) (0.3.8)\n",
            "Requirement already satisfied: pandas in /usr/local/lib/python3.11/dist-packages (from evaluate) (2.2.2)\n",
            "Requirement already satisfied: requests>=2.19.0 in /usr/local/lib/python3.11/dist-packages (from evaluate) (2.32.3)\n",
            "Requirement already satisfied: tqdm>=4.62.1 in /usr/local/lib/python3.11/dist-packages (from evaluate) (4.67.1)\n",
            "Requirement already satisfied: xxhash in /usr/local/lib/python3.11/dist-packages (from evaluate) (3.5.0)\n",
            "Requirement already satisfied: multiprocess in /usr/local/lib/python3.11/dist-packages (from evaluate) (0.70.16)\n",
            "Requirement already satisfied: fsspec>=2021.05.0 in /usr/local/lib/python3.11/dist-packages (from fsspec[http]>=2021.05.0->evaluate) (2024.12.0)\n",
            "Requirement already satisfied: huggingface-hub>=0.7.0 in /usr/local/lib/python3.11/dist-packages (from evaluate) (0.30.2)\n",
            "Requirement already satisfied: packaging in /usr/local/lib/python3.11/dist-packages (from evaluate) (24.2)\n",
            "Requirement already satisfied: filelock in /usr/local/lib/python3.11/dist-packages (from datasets>=2.0.0->evaluate) (3.18.0)\n",
            "Requirement already satisfied: pyarrow>=15.0.0 in /usr/local/lib/python3.11/dist-packages (from datasets>=2.0.0->evaluate) (18.1.0)\n",
            "Requirement already satisfied: aiohttp in /usr/local/lib/python3.11/dist-packages (from datasets>=2.0.0->evaluate) (3.11.15)\n",
            "Requirement already satisfied: pyyaml>=5.1 in /usr/local/lib/python3.11/dist-packages (from datasets>=2.0.0->evaluate) (6.0.2)\n",
            "Requirement already satisfied: typing-extensions>=3.7.4.3 in /usr/local/lib/python3.11/dist-packages (from huggingface-hub>=0.7.0->evaluate) (4.13.1)\n",
            "Requirement already satisfied: charset-normalizer<4,>=2 in /usr/local/lib/python3.11/dist-packages (from requests>=2.19.0->evaluate) (3.4.1)\n",
            "Requirement already satisfied: idna<4,>=2.5 in /usr/local/lib/python3.11/dist-packages (from requests>=2.19.0->evaluate) (3.10)\n",
            "Requirement already satisfied: urllib3<3,>=1.21.1 in /usr/local/lib/python3.11/dist-packages (from requests>=2.19.0->evaluate) (2.3.0)\n",
            "Requirement already satisfied: certifi>=2017.4.17 in /usr/local/lib/python3.11/dist-packages (from requests>=2.19.0->evaluate) (2025.1.31)\n",
            "Requirement already satisfied: python-dateutil>=2.8.2 in /usr/local/lib/python3.11/dist-packages (from pandas->evaluate) (2.8.2)\n",
            "Requirement already satisfied: pytz>=2020.1 in /usr/local/lib/python3.11/dist-packages (from pandas->evaluate) (2025.2)\n",
            "Requirement already satisfied: tzdata>=2022.7 in /usr/local/lib/python3.11/dist-packages (from pandas->evaluate) (2025.2)\n",
            "Requirement already satisfied: aiohappyeyeballs>=2.3.0 in /usr/local/lib/python3.11/dist-packages (from aiohttp->datasets>=2.0.0->evaluate) (2.6.1)\n",
            "Requirement already satisfied: aiosignal>=1.1.2 in /usr/local/lib/python3.11/dist-packages (from aiohttp->datasets>=2.0.0->evaluate) (1.3.2)\n",
            "Requirement already satisfied: attrs>=17.3.0 in /usr/local/lib/python3.11/dist-packages (from aiohttp->datasets>=2.0.0->evaluate) (25.3.0)\n",
            "Requirement already satisfied: frozenlist>=1.1.1 in /usr/local/lib/python3.11/dist-packages (from aiohttp->datasets>=2.0.0->evaluate) (1.5.0)\n",
            "Requirement already satisfied: multidict<7.0,>=4.5 in /usr/local/lib/python3.11/dist-packages (from aiohttp->datasets>=2.0.0->evaluate) (6.4.2)\n",
            "Requirement already satisfied: propcache>=0.2.0 in /usr/local/lib/python3.11/dist-packages (from aiohttp->datasets>=2.0.0->evaluate) (0.3.1)\n",
            "Requirement already satisfied: yarl<2.0,>=1.17.0 in /usr/local/lib/python3.11/dist-packages (from aiohttp->datasets>=2.0.0->evaluate) (1.19.0)\n",
            "Requirement already satisfied: six>=1.5 in /usr/local/lib/python3.11/dist-packages (from python-dateutil>=2.8.2->pandas->evaluate) (1.17.0)\n",
            "Downloading evaluate-0.4.3-py3-none-any.whl (84 kB)\n",
            "\u001b[2K   \u001b[90m━━━━━━━━━━━━━━━━━━━━━━━━━━━━━━━━━━━━━━━━\u001b[0m \u001b[32m84.0/84.0 kB\u001b[0m \u001b[31m2.4 MB/s\u001b[0m eta \u001b[36m0:00:00\u001b[0m\n",
            "\u001b[?25hInstalling collected packages: evaluate\n",
            "Successfully installed evaluate-0.4.3\n"
          ]
        }
      ],
      "source": [
        "!pip install transformers\n",
        "!pip3 install datasets\n",
        "!pip3 install py7zr\n",
        "!pip3 install peft\n",
        "!pip3 install evaluate\n",
        "!pip install accelerate>=0.20.1"
      ]
    },
    {
      "cell_type": "markdown",
      "source": [
        "# Loading Dataset"
      ],
      "metadata": {
        "id": "ELjr9rrwj9a2"
      }
    },
    {
      "cell_type": "code",
      "source": [
        "from datasets import load_dataset\n",
        "\n",
        "dataset = load_dataset(\"stanfordnlp/sst2\")\n",
        "dataset_train = dataset['train']\n",
        "dataset_val = dataset['validation']\n",
        "print(len(dataset_train))\n",
        "print(len(dataset_val))"
      ],
      "metadata": {
        "colab": {
          "base_uri": "https://localhost:8080/",
          "height": 404,
          "referenced_widgets": [
            "67c5d33516724bc0a21c832498e7701d",
            "332940e93d964d0fb91696c558e43bbc",
            "c4325268fe6144519befcae85e5ce9e1",
            "bfcc778a72f4446d9eb9be38eba94897",
            "7c0cb23cda9c4dc4a5ba6d8e049bc589",
            "5c5efb79dd334453b41d78f4d729efaa",
            "b0b4f28baebb4737a7a800505fdf91c4",
            "d15641ec911348f29ed1a469b2f948dc",
            "ea6c5f0862024dcdad44bceb80518acc",
            "790d9d6705be4f3895d393e0e9838cc8",
            "1c665c7cc7f84cc68a54ef70bfc467b0",
            "57f3a67abfe74df19995a9d8cf5897ba",
            "d9d866ce657446f399f01250034e9f6d",
            "217ef6e603d544998d1ff2a2b9c8849b",
            "3da7727afff745369986ccc9550552c4",
            "d4f35df3f63d4705b3b3612ae4b92903",
            "56fe2da7334d4ed2a54e1ce411bc3e8d",
            "e1fdde469ea7412fa1af80d68244f6ab",
            "d00d7504aafa48598dbad55737017bc5",
            "33008ff42da64f2390aa58b7a58657da",
            "1c6e41e96c9044a496ab48621cc04733",
            "3c54e00b1322440da6ebf6be8f579de2",
            "6ba9e19e1a1943a8a02c59015f553638",
            "ec393b4a7ad2479ead834bfc5a9d7cae",
            "733fc47636754584829d6293760f43d1",
            "f28701afc8a2428285763f524d7ce070",
            "349fb64edeee4ba0b14bfb7f3e93bc88",
            "1259e9dedab34bb9825e786141e07715",
            "f1d050c134014cc594aeae5bba24704c",
            "fe02dd1c84944fdf94bb2705f17ae7c5",
            "cf0778687c7640f2a79b0183aeb6d5ce",
            "ea530c267b7d42488ba6f3ab1c8c6b86",
            "65f66457d50a490b985ed82ba6dce7f0",
            "f57115e8f0664b31815c2fbcf0993caa",
            "25e71a6855c24f91af0491b7f9435c07",
            "eea0482df2124e85b1a584f179e7a6c9",
            "593f9ad882304bf3a62c0b1073679581",
            "4dbc200bec764efb8be7eb782ee68862",
            "81d7a870b2c649b58895727bf391d51f",
            "a3c61154d9a84ffda60a5735a349137b",
            "07ca46e294934f39bfb4801940483cfc",
            "1eff4f964fba4e78a5e99c764b430912",
            "bfd05a66189542249aa6347dc7f809ea",
            "dd2e2b0a2fb444a3b931575ae226d384",
            "9c77597f73ca426ea976acf60abb1dda",
            "df44cd1fa2444c1f8f6957fdbcbbce16",
            "dab222c2d27a4ebfa7d67d17f89cad7c",
            "bfc469f96e8445498c5b00ca9ab8a6b3",
            "85fcc258021d405d9780653f3e213120",
            "a223fe209b824fe2931b9b2fdfbc4ed4",
            "891fb7432e7b4076b3548cba38a7a972",
            "66044a6fdb5545f1897662d74cf19d23",
            "6b38fb91f3ed491bad22d0038a4fd626",
            "7c931b8739184f918c8a2357ae1287c7",
            "7693fe3c9a0744399c15443289a4e30a",
            "4397778ceb054f9292533f06418dac8f",
            "04cec772cdeb445abf813c3e6234b4b0",
            "e4f569138ac14d48b7ebd8fc6e37fcd4",
            "8cb3dfc462304dac81c26e3dda2b9f9c",
            "5c99959a2a564624ab094a95a8ec017d",
            "cf9bc3eba4f346959ab5a665cbcb93ea",
            "0f39f1194499469684aaa80cd57900d7",
            "4048ab79bbd644cabfa545c8f08edf6d",
            "f081c350cf9445f8aeffdf9cfaddc184",
            "a705f677b787480c8334bf76a9bfd5df",
            "d805e3e340a449febf0820a5bab7e23c",
            "1d846539f97847749fffd0ca6372a2b7",
            "be2b654d479445689b4c71229c8f6e42",
            "241a0c9a02014f919673eb01f05314e4",
            "07bd0696b37741da9a1358af80ba7c06",
            "a681029f80934cedb88dd3ec7a5108e9",
            "b03ab5519c6f40f484e85000d33d6e13",
            "689759b23dca4e298f9e38f2312d04f4",
            "1b4210308d474a8dbd9410805afba35d",
            "ba1ed5f437ae4239a2e038769b86a0ba",
            "c6cfcc921b2248a6bfec46057c7d8e11",
            "d477344b82ea443ba82d5a8b63e9cd5e"
          ]
        },
        "id": "4hd9srL9Owhv",
        "outputId": "5b4f4b2a-93e1-4174-db6f-ac0620c11840"
      },
      "execution_count": null,
      "outputs": [
        {
          "output_type": "stream",
          "name": "stderr",
          "text": [
            "/usr/local/lib/python3.11/dist-packages/huggingface_hub/utils/_auth.py:94: UserWarning: \n",
            "The secret `HF_TOKEN` does not exist in your Colab secrets.\n",
            "To authenticate with the Hugging Face Hub, create a token in your settings tab (https://huggingface.co/settings/tokens), set it as secret in your Google Colab and restart your session.\n",
            "You will be able to reuse this secret in all of your notebooks.\n",
            "Please note that authentication is recommended but still optional to access public models or datasets.\n",
            "  warnings.warn(\n"
          ]
        },
        {
          "output_type": "display_data",
          "data": {
            "text/plain": [
              "README.md:   0%|          | 0.00/5.27k [00:00<?, ?B/s]"
            ],
            "application/vnd.jupyter.widget-view+json": {
              "version_major": 2,
              "version_minor": 0,
              "model_id": "67c5d33516724bc0a21c832498e7701d"
            }
          },
          "metadata": {}
        },
        {
          "output_type": "display_data",
          "data": {
            "text/plain": [
              "train-00000-of-00001.parquet:   0%|          | 0.00/3.11M [00:00<?, ?B/s]"
            ],
            "application/vnd.jupyter.widget-view+json": {
              "version_major": 2,
              "version_minor": 0,
              "model_id": "57f3a67abfe74df19995a9d8cf5897ba"
            }
          },
          "metadata": {}
        },
        {
          "output_type": "display_data",
          "data": {
            "text/plain": [
              "validation-00000-of-00001.parquet:   0%|          | 0.00/72.8k [00:00<?, ?B/s]"
            ],
            "application/vnd.jupyter.widget-view+json": {
              "version_major": 2,
              "version_minor": 0,
              "model_id": "6ba9e19e1a1943a8a02c59015f553638"
            }
          },
          "metadata": {}
        },
        {
          "output_type": "display_data",
          "data": {
            "text/plain": [
              "test-00000-of-00001.parquet:   0%|          | 0.00/148k [00:00<?, ?B/s]"
            ],
            "application/vnd.jupyter.widget-view+json": {
              "version_major": 2,
              "version_minor": 0,
              "model_id": "f57115e8f0664b31815c2fbcf0993caa"
            }
          },
          "metadata": {}
        },
        {
          "output_type": "display_data",
          "data": {
            "text/plain": [
              "Generating train split:   0%|          | 0/67349 [00:00<?, ? examples/s]"
            ],
            "application/vnd.jupyter.widget-view+json": {
              "version_major": 2,
              "version_minor": 0,
              "model_id": "9c77597f73ca426ea976acf60abb1dda"
            }
          },
          "metadata": {}
        },
        {
          "output_type": "display_data",
          "data": {
            "text/plain": [
              "Generating validation split:   0%|          | 0/872 [00:00<?, ? examples/s]"
            ],
            "application/vnd.jupyter.widget-view+json": {
              "version_major": 2,
              "version_minor": 0,
              "model_id": "4397778ceb054f9292533f06418dac8f"
            }
          },
          "metadata": {}
        },
        {
          "output_type": "display_data",
          "data": {
            "text/plain": [
              "Generating test split:   0%|          | 0/1821 [00:00<?, ? examples/s]"
            ],
            "application/vnd.jupyter.widget-view+json": {
              "version_major": 2,
              "version_minor": 0,
              "model_id": "1d846539f97847749fffd0ca6372a2b7"
            }
          },
          "metadata": {}
        },
        {
          "output_type": "stream",
          "name": "stdout",
          "text": [
            "67349\n",
            "872\n"
          ]
        }
      ]
    },
    {
      "cell_type": "markdown",
      "source": [
        "# Fine Tuning BERT"
      ],
      "metadata": {
        "id": "4OU9I_P9kFCo"
      }
    },
    {
      "cell_type": "markdown",
      "source": [
        "## Load Model"
      ],
      "metadata": {
        "id": "shg4c1CzkIpG"
      }
    },
    {
      "cell_type": "code",
      "source": [
        "from transformers import AutoTokenizer, AutoModelForSequenceClassification\n",
        "from peft import LoraConfig, get_peft_model\n",
        "import torch\n",
        "\n",
        "bert_tokenizer = AutoTokenizer.from_pretrained(\"google-bert/bert-base-uncased\")\n",
        "bert_model = AutoModelForSequenceClassification.from_pretrained(\"google-bert/bert-base-uncased\")"
      ],
      "metadata": {
        "colab": {
          "base_uri": "https://localhost:8080/",
          "height": 268,
          "referenced_widgets": [
            "7b25dae191ce4fd49c8b5e5e0a61ea1b",
            "a9afa9740ff34304a0fb47808dcc402d",
            "ce791e1685964d009bc70f953790547c",
            "618c0c5a242a405695410fec3fa32a42",
            "0a891ee993bd4abb84a14be518f4dc05",
            "1f2d018a753b4259aa7a12fbc5d34614",
            "8ab995fbea6745c390a41ddc634cb16c",
            "f35a3d5c8cc54c29beb1877fce5a83bc",
            "60aa2167e7d645268b75d0a2a84867e4",
            "4bf2bcd8db754830b10a6a4e91d0429f",
            "3618b3fe9bab4cef85dcadac0fbdd262",
            "316e0db7990444b2be8d6217e41894dd",
            "53737ffd3b6847a080abadb78f4d4526",
            "9e15ace7e98046718fb5ff68155662d0",
            "23006ef0cb904d6894d6ac50586c5ff4",
            "6dcb31f2d3bf46af85492125a7c4f182",
            "d4e542d2267744ee8eeec8923a2a99bc",
            "57941ddc638741b5bb1629effbfda61f",
            "7b4d6ca3a78e405a9a533dfe0b8b1094",
            "7c3a925b1a534c3990701749ac3e8f71",
            "67366dc404f44d07b620a4e9902f6ead",
            "73034af54ecc43c48b1200d13b7d7364",
            "077471b552044ca990c28d20225c9310",
            "6b20fe78d4b24438b4e7cbf6e255c55f",
            "1781e8547a7541e19326f2ecfd225097",
            "8b7598a7ae2f442a83f9c552af8fe961",
            "578c0753132c4527861c72e462082636",
            "3ff906e0bb5b42b0a2b4fdc5fa949eb7",
            "48feaaa72f924ec4a55d5ecd561fff9c",
            "f41ba00f39b6482098f208fdabb5e86e",
            "5d196763b367486aac80ea9d010278c6",
            "73015fbbb15c439dafe2fbb57af53d0d",
            "fb48554bf58544e0970f58f717180da6",
            "8b818d21beca45c7b13b0a993ef85d80",
            "a7bc49410c9f41f1b6670e6f3f1257d5",
            "19992a8a96cc43a99bb0b615811687ee",
            "da006a3ba70e429182e1eacd9d41477a",
            "bbe75fd0e26b44f3a4be7efc592fdc2e",
            "c8640eafc50e49ea9a0506619c8b278a",
            "94a54e9dd06e42b9bd97472833a87494",
            "605ce1712cf74ee59526450df0e8558d",
            "ff39d24ff25f45e2b3a64af179c138bc",
            "9c734a54c5c14d5181e625e5de4d8362",
            "8371d5fe1d6d48a1be9e1ab4ddad051d",
            "0b8707dc008548a7bd278192c1422e14",
            "cc5616971d6c45a18c6df254877c2792",
            "0c7ce761653b4170ac06eeaf7447e1a4",
            "3357738d9c2145e186a8db9f04872b4d",
            "0ca19cc73e254ea9a6bb9f383e65760a",
            "317be7c146a5479799f41d454100c920",
            "510ddf24e6f34464a75287d2a46d5c46",
            "9100179ac8c74f71943d5f8862bd9177",
            "1159a39652f940438da1e098d1a0c31b",
            "c7d2f7245d8646fba66ac2b28650bf9d",
            "d1d2d4a44e5643e08c025e5c33f8eb39"
          ]
        },
        "id": "uBmAzQeMPgxr",
        "outputId": "0ed5bec4-90d9-478b-9477-031f8de9bd48"
      },
      "execution_count": null,
      "outputs": [
        {
          "output_type": "display_data",
          "data": {
            "text/plain": [
              "tokenizer_config.json:   0%|          | 0.00/48.0 [00:00<?, ?B/s]"
            ],
            "application/vnd.jupyter.widget-view+json": {
              "version_major": 2,
              "version_minor": 0,
              "model_id": "7b25dae191ce4fd49c8b5e5e0a61ea1b"
            }
          },
          "metadata": {}
        },
        {
          "output_type": "display_data",
          "data": {
            "text/plain": [
              "config.json:   0%|          | 0.00/570 [00:00<?, ?B/s]"
            ],
            "application/vnd.jupyter.widget-view+json": {
              "version_major": 2,
              "version_minor": 0,
              "model_id": "316e0db7990444b2be8d6217e41894dd"
            }
          },
          "metadata": {}
        },
        {
          "output_type": "display_data",
          "data": {
            "text/plain": [
              "vocab.txt:   0%|          | 0.00/232k [00:00<?, ?B/s]"
            ],
            "application/vnd.jupyter.widget-view+json": {
              "version_major": 2,
              "version_minor": 0,
              "model_id": "077471b552044ca990c28d20225c9310"
            }
          },
          "metadata": {}
        },
        {
          "output_type": "display_data",
          "data": {
            "text/plain": [
              "tokenizer.json:   0%|          | 0.00/466k [00:00<?, ?B/s]"
            ],
            "application/vnd.jupyter.widget-view+json": {
              "version_major": 2,
              "version_minor": 0,
              "model_id": "8b818d21beca45c7b13b0a993ef85d80"
            }
          },
          "metadata": {}
        },
        {
          "output_type": "stream",
          "name": "stderr",
          "text": [
            "Xet Storage is enabled for this repo, but the 'hf_xet' package is not installed. Falling back to regular HTTP download. For better performance, install the package with: `pip install huggingface_hub[hf_xet]` or `pip install hf_xet`\n",
            "WARNING:huggingface_hub.file_download:Xet Storage is enabled for this repo, but the 'hf_xet' package is not installed. Falling back to regular HTTP download. For better performance, install the package with: `pip install huggingface_hub[hf_xet]` or `pip install hf_xet`\n"
          ]
        },
        {
          "output_type": "display_data",
          "data": {
            "text/plain": [
              "model.safetensors:   0%|          | 0.00/440M [00:00<?, ?B/s]"
            ],
            "application/vnd.jupyter.widget-view+json": {
              "version_major": 2,
              "version_minor": 0,
              "model_id": "0b8707dc008548a7bd278192c1422e14"
            }
          },
          "metadata": {}
        },
        {
          "output_type": "stream",
          "name": "stderr",
          "text": [
            "Some weights of BertForSequenceClassification were not initialized from the model checkpoint at google-bert/bert-base-uncased and are newly initialized: ['classifier.bias', 'classifier.weight']\n",
            "You should probably TRAIN this model on a down-stream task to be able to use it for predictions and inference.\n"
          ]
        }
      ]
    },
    {
      "cell_type": "markdown",
      "source": [
        "## Tokenize data using Bert tokenizer"
      ],
      "metadata": {
        "id": "EtaTB8GNkPit"
      }
    },
    {
      "cell_type": "code",
      "source": [
        "def tokenize_text(batch):\n",
        "  return bert_tokenizer(batch[\"sentence\"],padding=\"max_length\", truncation=True)"
      ],
      "metadata": {
        "id": "gmbykbh6RHhc"
      },
      "execution_count": null,
      "outputs": []
    },
    {
      "cell_type": "code",
      "source": [
        "dataset_train_tokenized = dataset_train.map(tokenize_text, batched=True, remove_columns=[\"idx\"])\n",
        "dataset_val_tokenized = dataset_val.map(tokenize_text, batched=True, remove_columns=[\"idx\"])"
      ],
      "metadata": {
        "colab": {
          "base_uri": "https://localhost:8080/",
          "height": 81,
          "referenced_widgets": [
            "512479ebdd9046cc89bda8ed595f20ee",
            "a12e6b28d2ed4a259f629c47fd2b91fc",
            "019b47ec9e494e1fbff37cabb6ead187",
            "a784a0d104104d818c8ad84a52843268",
            "5b941d22b9844bc0ae40988beed9ee91",
            "65e8e19d6b7048009cdc72093cedb597",
            "800975f4aee74a91b6eaba512d577c81",
            "c16b595e99f24072953091c115a072a3",
            "aff07e9d5c4d48b4ae44f74a7fd93707",
            "b9fa5c8ca9c549d6882f5fdffbc62212",
            "88bbf2556a6d4b628acbd94a4a37e2d4",
            "b269608427b94979945cd655014e5bf0",
            "6cf4f5da3bf14a13b3fe35c209f4b86b",
            "86da5f533c1e409194b34d993b3a6476",
            "8cf9606fa591425e9002ad59825eb9f1",
            "c4f1fca4448f473c9b04b77f83bd7ca8",
            "b43047ae242646e2befe01f4b82aaac0",
            "37a55c30ce62466db697ea15e76e4557",
            "192b60c45bf94558910fd37517dda104",
            "2ce5fe13b89a46a1b00416c8b87d7486",
            "2cc395c618dc4560a71911c59a8c443e",
            "9bd6b305781d477799847bd1f11117bc"
          ]
        },
        "id": "T0Jc5y7CRsM9",
        "outputId": "b464e829-993f-46de-d11b-e7323cff097c"
      },
      "execution_count": null,
      "outputs": [
        {
          "output_type": "display_data",
          "data": {
            "text/plain": [
              "Map:   0%|          | 0/67349 [00:00<?, ? examples/s]"
            ],
            "application/vnd.jupyter.widget-view+json": {
              "version_major": 2,
              "version_minor": 0,
              "model_id": "512479ebdd9046cc89bda8ed595f20ee"
            }
          },
          "metadata": {}
        },
        {
          "output_type": "display_data",
          "data": {
            "text/plain": [
              "Map:   0%|          | 0/872 [00:00<?, ? examples/s]"
            ],
            "application/vnd.jupyter.widget-view+json": {
              "version_major": 2,
              "version_minor": 0,
              "model_id": "b269608427b94979945cd655014e5bf0"
            }
          },
          "metadata": {}
        }
      ]
    },
    {
      "cell_type": "code",
      "source": [
        "import numpy as np\n",
        "import evaluate\n",
        "\n",
        "import torch\n",
        "from sklearn.metrics import precision_recall_fscore_support, accuracy_score\n",
        "\n",
        "def compute_metrics(eval_pred):\n",
        "    logits, labels = eval_pred\n",
        "    predictions = torch.argmax(torch.tensor(logits), dim=-1).numpy()\n",
        "    # labels = labels.numpy()\n",
        "    precision, recall, f1, _ = precision_recall_fscore_support(labels, predictions, average='binary')\n",
        "    acc = accuracy_score(labels, predictions)\n",
        "    return {\"accuracy\": acc, \"precision\": precision, \"recall\": recall, \"f1\": f1}"
      ],
      "metadata": {
        "id": "JuukldXdR59r"
      },
      "execution_count": null,
      "outputs": []
    },
    {
      "cell_type": "code",
      "source": [
        "batch_size = 32\n",
        "num_epochs = 3\n",
        "learning_rate = 1e-5"
      ],
      "metadata": {
        "id": "gQwa7-khUTT1"
      },
      "execution_count": null,
      "outputs": []
    },
    {
      "cell_type": "markdown",
      "source": [
        "## Define Training Arguments"
      ],
      "metadata": {
        "id": "cOxDH09MkZaf"
      }
    },
    {
      "cell_type": "code",
      "source": [
        "from transformers import TrainingArguments, Trainer\n",
        "\n",
        "training_args = TrainingArguments(\n",
        "    output_dir=\"bert_sentiment_analysis\",\n",
        "    per_device_train_batch_size=batch_size,\n",
        "    per_device_eval_batch_size=batch_size,\n",
        "    num_train_epochs=num_epochs,\n",
        "    learning_rate=learning_rate,\n",
        "    eval_strategy=\"epoch\",\n",
        "    save_strategy=\"epoch\",\n",
        "    logging_dir=\"./logs\",\n",
        "    logging_steps=50,\n",
        "    save_steps=1e6,\n",
        "    gradient_accumulation_steps=16,\n",
        "    load_best_model_at_end=True\n",
        ")"
      ],
      "metadata": {
        "id": "JAK4KO0ZR_jl"
      },
      "execution_count": null,
      "outputs": []
    },
    {
      "cell_type": "markdown",
      "source": [
        "## Fine-tune model"
      ],
      "metadata": {
        "id": "S45S0MObkgK0"
      }
    },
    {
      "cell_type": "code",
      "source": [
        "# Initialize Trainer\n",
        "trainer = Trainer(\n",
        "    model = bert_model,\n",
        "    args = training_args,\n",
        "    train_dataset = dataset_train_tokenized,\n",
        "    eval_dataset = dataset_val_tokenized,\n",
        "    compute_metrics = compute_metrics,\n",
        "    tokenizer = bert_tokenizer\n",
        ")\n",
        "\n",
        "trainer.train()"
      ],
      "metadata": {
        "colab": {
          "base_uri": "https://localhost:8080/",
          "height": 562
        },
        "id": "YBjfojP4Undd",
        "outputId": "f330cdd8-ce86-45c6-b77f-fff8273ea6ad"
      },
      "execution_count": null,
      "outputs": [
        {
          "output_type": "stream",
          "name": "stderr",
          "text": [
            "<ipython-input-9-0a02ab279296>:2: FutureWarning: `tokenizer` is deprecated and will be removed in version 5.0.0 for `Trainer.__init__`. Use `processing_class` instead.\n",
            "  trainer = Trainer(\n",
            "\u001b[34m\u001b[1mwandb\u001b[0m: \u001b[33mWARNING\u001b[0m The `run_name` is currently set to the same value as `TrainingArguments.output_dir`. If this was not intended, please specify a different run name by setting the `TrainingArguments.run_name` parameter.\n",
            "\u001b[34m\u001b[1mwandb\u001b[0m: Using wandb-core as the SDK backend.  Please refer to https://wandb.me/wandb-core for more information.\n"
          ]
        },
        {
          "output_type": "display_data",
          "data": {
            "text/plain": [
              "<IPython.core.display.Javascript object>"
            ],
            "application/javascript": [
              "\n",
              "        window._wandbApiKey = new Promise((resolve, reject) => {\n",
              "            function loadScript(url) {\n",
              "            return new Promise(function(resolve, reject) {\n",
              "                let newScript = document.createElement(\"script\");\n",
              "                newScript.onerror = reject;\n",
              "                newScript.onload = resolve;\n",
              "                document.body.appendChild(newScript);\n",
              "                newScript.src = url;\n",
              "            });\n",
              "            }\n",
              "            loadScript(\"https://cdn.jsdelivr.net/npm/postmate/build/postmate.min.js\").then(() => {\n",
              "            const iframe = document.createElement('iframe')\n",
              "            iframe.style.cssText = \"width:0;height:0;border:none\"\n",
              "            document.body.appendChild(iframe)\n",
              "            const handshake = new Postmate({\n",
              "                container: iframe,\n",
              "                url: 'https://wandb.ai/authorize'\n",
              "            });\n",
              "            const timeout = setTimeout(() => reject(\"Couldn't auto authenticate\"), 5000)\n",
              "            handshake.then(function(child) {\n",
              "                child.on('authorize', data => {\n",
              "                    clearTimeout(timeout)\n",
              "                    resolve(data)\n",
              "                });\n",
              "            });\n",
              "            })\n",
              "        });\n",
              "    "
            ]
          },
          "metadata": {}
        },
        {
          "output_type": "stream",
          "name": "stderr",
          "text": [
            "\u001b[34m\u001b[1mwandb\u001b[0m: Logging into wandb.ai. (Learn how to deploy a W&B server locally: https://wandb.me/wandb-server)\n",
            "\u001b[34m\u001b[1mwandb\u001b[0m: You can find your API key in your browser here: https://wandb.ai/authorize\n",
            "wandb: Paste an API key from your profile and hit enter:"
          ]
        },
        {
          "name": "stdout",
          "output_type": "stream",
          "text": [
            " ··········\n"
          ]
        },
        {
          "output_type": "stream",
          "name": "stderr",
          "text": [
            "\u001b[34m\u001b[1mwandb\u001b[0m: \u001b[33mWARNING\u001b[0m If you're specifying your api key in code, ensure this code is not shared publicly.\n",
            "\u001b[34m\u001b[1mwandb\u001b[0m: \u001b[33mWARNING\u001b[0m Consider setting the WANDB_API_KEY environment variable, or running `wandb login` from the command line.\n",
            "\u001b[34m\u001b[1mwandb\u001b[0m: No netrc file found, creating one.\n",
            "\u001b[34m\u001b[1mwandb\u001b[0m: Appending key for api.wandb.ai to your netrc file: /root/.netrc\n",
            "\u001b[34m\u001b[1mwandb\u001b[0m: Currently logged in as: \u001b[33myashwanthsaipathipati\u001b[0m (\u001b[33myashwanthsaipathipati-university-of-south-florida\u001b[0m) to \u001b[32mhttps://api.wandb.ai\u001b[0m. Use \u001b[1m`wandb login --relogin`\u001b[0m to force relogin\n"
          ]
        },
        {
          "output_type": "display_data",
          "data": {
            "text/plain": [
              "<IPython.core.display.HTML object>"
            ],
            "text/html": [
              "Tracking run with wandb version 0.19.9"
            ]
          },
          "metadata": {}
        },
        {
          "output_type": "display_data",
          "data": {
            "text/plain": [
              "<IPython.core.display.HTML object>"
            ],
            "text/html": [
              "Run data is saved locally in <code>/content/wandb/run-20250415_184337-1l9zloof</code>"
            ]
          },
          "metadata": {}
        },
        {
          "output_type": "display_data",
          "data": {
            "text/plain": [
              "<IPython.core.display.HTML object>"
            ],
            "text/html": [
              "Syncing run <strong><a href='https://wandb.ai/yashwanthsaipathipati-university-of-south-florida/huggingface/runs/1l9zloof' target=\"_blank\">bert_sentiment_analysis</a></strong> to <a href='https://wandb.ai/yashwanthsaipathipati-university-of-south-florida/huggingface' target=\"_blank\">Weights & Biases</a> (<a href='https://wandb.me/developer-guide' target=\"_blank\">docs</a>)<br>"
            ]
          },
          "metadata": {}
        },
        {
          "output_type": "display_data",
          "data": {
            "text/plain": [
              "<IPython.core.display.HTML object>"
            ],
            "text/html": [
              " View project at <a href='https://wandb.ai/yashwanthsaipathipati-university-of-south-florida/huggingface' target=\"_blank\">https://wandb.ai/yashwanthsaipathipati-university-of-south-florida/huggingface</a>"
            ]
          },
          "metadata": {}
        },
        {
          "output_type": "display_data",
          "data": {
            "text/plain": [
              "<IPython.core.display.HTML object>"
            ],
            "text/html": [
              " View run at <a href='https://wandb.ai/yashwanthsaipathipati-university-of-south-florida/huggingface/runs/1l9zloof' target=\"_blank\">https://wandb.ai/yashwanthsaipathipati-university-of-south-florida/huggingface/runs/1l9zloof</a>"
            ]
          },
          "metadata": {}
        },
        {
          "output_type": "display_data",
          "data": {
            "text/plain": [
              "<IPython.core.display.HTML object>"
            ],
            "text/html": [
              "\n",
              "    <div>\n",
              "      \n",
              "      <progress value='393' max='393' style='width:300px; height:20px; vertical-align: middle;'></progress>\n",
              "      [393/393 1:03:09, Epoch 2/3]\n",
              "    </div>\n",
              "    <table border=\"1\" class=\"dataframe\">\n",
              "  <thead>\n",
              " <tr style=\"text-align: left;\">\n",
              "      <th>Epoch</th>\n",
              "      <th>Training Loss</th>\n",
              "      <th>Validation Loss</th>\n",
              "      <th>Accuracy</th>\n",
              "      <th>Precision</th>\n",
              "      <th>Recall</th>\n",
              "      <th>F1</th>\n",
              "    </tr>\n",
              "  </thead>\n",
              "  <tbody>\n",
              "    <tr>\n",
              "      <td>0</td>\n",
              "      <td>0.282500</td>\n",
              "      <td>0.232203</td>\n",
              "      <td>0.913991</td>\n",
              "      <td>0.924138</td>\n",
              "      <td>0.905405</td>\n",
              "      <td>0.914676</td>\n",
              "    </tr>\n",
              "    <tr>\n",
              "      <td>1</td>\n",
              "      <td>0.193600</td>\n",
              "      <td>0.234153</td>\n",
              "      <td>0.908257</td>\n",
              "      <td>0.899123</td>\n",
              "      <td>0.923423</td>\n",
              "      <td>0.911111</td>\n",
              "    </tr>\n",
              "    <tr>\n",
              "      <td>2</td>\n",
              "      <td>0.176500</td>\n",
              "      <td>0.233880</td>\n",
              "      <td>0.909404</td>\n",
              "      <td>0.906459</td>\n",
              "      <td>0.916667</td>\n",
              "      <td>0.911534</td>\n",
              "    </tr>\n",
              "  </tbody>\n",
              "</table><p>"
            ]
          },
          "metadata": {}
        },
        {
          "output_type": "execute_result",
          "data": {
            "text/plain": [
              "TrainOutput(global_step=393, training_loss=0.24094253277960626, metrics={'train_runtime': 3820.7057, 'train_samples_per_second': 52.882, 'train_steps_per_second': 0.103, 'total_flos': 5.302634965303296e+16, 'train_loss': 0.24094253277960626, 'epoch': 2.9957244655581947})"
            ]
          },
          "metadata": {},
          "execution_count": 9
        }
      ]
    },
    {
      "cell_type": "markdown",
      "source": [
        "## Evaluate and Save Model"
      ],
      "metadata": {
        "id": "p79dRaRTk2zh"
      }
    },
    {
      "cell_type": "code",
      "source": [
        "results = trainer.evaluate()"
      ],
      "metadata": {
        "colab": {
          "base_uri": "https://localhost:8080/",
          "height": 37
        },
        "id": "55GgXptvVmfd",
        "outputId": "6910758d-5639-4e92-d332-167c77956384"
      },
      "execution_count": null,
      "outputs": [
        {
          "output_type": "display_data",
          "data": {
            "text/plain": [
              "<IPython.core.display.HTML object>"
            ],
            "text/html": [
              "\n",
              "    <div>\n",
              "      \n",
              "      <progress value='28' max='28' style='width:300px; height:20px; vertical-align: middle;'></progress>\n",
              "      [28/28 00:05]\n",
              "    </div>\n",
              "    "
            ]
          },
          "metadata": {}
        }
      ]
    },
    {
      "cell_type": "code",
      "source": [
        "bert_accuracy = results['eval_accuracy']\n",
        "bert_precision = results['eval_precision']\n",
        "bert_recall = results['eval_recall']\n",
        "bert_f1 = results['eval_f1']"
      ],
      "metadata": {
        "id": "_4UxciIUxfCx"
      },
      "execution_count": null,
      "outputs": []
    },
    {
      "cell_type": "code",
      "source": [
        "trainer.save_model(\"bert_sentiment_analysis\")"
      ],
      "metadata": {
        "id": "X9Eg8lXlW7dH"
      },
      "execution_count": null,
      "outputs": []
    },
    {
      "cell_type": "markdown",
      "source": [
        "# Fine Tuning DISTILBERT"
      ],
      "metadata": {
        "id": "pC-j8spgk_4x"
      }
    },
    {
      "cell_type": "markdown",
      "source": [
        "## Load Model"
      ],
      "metadata": {
        "id": "biW19yE4lEWL"
      }
    },
    {
      "cell_type": "code",
      "source": [
        "distilbert_tokenizer = AutoTokenizer.from_pretrained(\"distilbert/distilbert-base-uncased\")\n",
        "distilbert_model = AutoModelForSequenceClassification.from_pretrained(\"distilbert/distilbert-base-uncased\")\n",
        "\n",
        "lora_config = LoraConfig(\n",
        "    r=8,\n",
        "    lora_alpha=32,\n",
        "    lora_dropout=0.1,\n",
        "    task_type=\"SEQ_CLS\",\n",
        "    target_modules=[\"distilbert.transformer.layer.0.attention.q_lin\",\n",
        "                     \"distilbert.transformer.layer.0.attention.k_lin\",\n",
        "                     \"distilbert.transformer.layer.0.attention.v_lin\",\n",
        "                     \"distilbert.transformer.layer.0.attention.out_lin\",\n",
        "                     \"distilbert.transformer.layer.0.ffn.lin1\",\n",
        "                     \"distilbert.transformer.layer.0.ffn.lin2\",\n",
        "                     \"distilbert.transformer.layer.1.attention.q_lin\",\n",
        "                     \"distilbert.transformer.layer.1.attention.k_lin\",\n",
        "                     \"distilbert.transformer.layer.1.attention.v_lin\",\n",
        "                     \"distilbert.transformer.layer.1.attention.out_lin\",\n",
        "                     \"distilbert.transformer.layer.1.ffn.lin1\",\n",
        "                     \"distilbert.transformer.layer.1.ffn.lin2\",\n",
        "                     \"distilbert.transformer.layer.2.attention.q_lin\",\n",
        "                     \"distilbert.transformer.layer.2.attention.k_lin\",\n",
        "                     \"distilbert.transformer.layer.2.attention.v_lin\",\n",
        "                     \"distilbert.transformer.layer.2.attention.out_lin\",\n",
        "                     \"distilbert.transformer.layer.2.ffn.lin1\",\n",
        "                     \"distilbert.transformer.layer.2.ffn.lin2\",\n",
        "                     \"distilbert.transformer.layer.3.attention.q_lin\",\n",
        "                     \"distilbert.transformer.layer.3.attention.k_lin\",\n",
        "                     \"distilbert.transformer.layer.3.attention.v_lin\",\n",
        "                     \"distilbert.transformer.layer.3.attention.out_lin\",\n",
        "                     \"distilbert.transformer.layer.3.ffn.lin1\",\n",
        "                     \"distilbert.transformer.layer.3.ffn.lin2\",\n",
        "                     \"distilbert.transformer.layer.4.attention.q_lin\",\n",
        "                     \"distilbert.transformer.layer.4.attention.k_lin\",\n",
        "                     \"distilbert.transformer.layer.4.attention.v_lin\",\n",
        "                     \"distilbert.transformer.layer.4.attention.out_lin\",\n",
        "                     \"distilbert.transformer.layer.4.ffn.lin1\",\n",
        "                     \"distilbert.transformer.layer.4.ffn.lin2\",\n",
        "                     \"distilbert.transformer.layer.5.attention.q_lin\",\n",
        "                     \"distilbert.transformer.layer.5.attention.k_lin\",\n",
        "                     \"distilbert.transformer.layer.5.attention.v_lin\",\n",
        "                     \"distilbert.transformer.layer.5.attention.out_lin\",\n",
        "                     \"distilbert.transformer.layer.5.ffn.lin1\",\n",
        "                     \"distilbert.transformer.layer.5.ffn.lin2\"]\n",
        ")\n",
        "\n",
        "distilbert_model = get_peft_model(distilbert_model, lora_config)\n",
        "distilbert_model.print_trainable_parameters()"
      ],
      "metadata": {
        "colab": {
          "base_uri": "https://localhost:8080/",
          "height": 286,
          "referenced_widgets": [
            "a0d209dc0a4e4aaf937bbe4ed802e174",
            "8872861300f54de885cba08012f89a04",
            "9b30d71ebaa84a46bb1f14f26feb2564",
            "c06b0dfcd5264675a841679f3f1d2bcc",
            "6ed8e2ebd0ce4cecaed71b2a74c766ad",
            "a001a9227cbe4fcd9848d118058ff8ab",
            "0d1419037fb74438adcf78ffbad1548e",
            "fb4d6f028bdd493799f950b6db342082",
            "177cb412aca64d5792ed7f79d8d1bd92",
            "2c984028ff6d4141a1a4d329f950b964",
            "802a6243e0a04312b94d1cd97283cc00",
            "185ec5fdcf514bc4bd691514005c25fc",
            "fa3e9aa36e6c4e25a7f1c03bdfc54003",
            "1ff3bb2379084a16aefd5bf5679cfca5",
            "d94d22990736420eb8cf58eb570f51da",
            "12f84814869f4fc9aad16d302e8c9703",
            "1df03f63a07843d580b55b97e4a2fb64",
            "d44b48e74562420ea03ff267aaa35fab",
            "1bc33f2582ef4f088a206c6c235de854",
            "c3fcaccdd4e14ec8be29075e376270e9",
            "c4c1eeb700cc4f2180025b5a1244d446",
            "5853df8230ea4cb683a7257662c9408e",
            "74885ce9b33a4fbe837b3214f4a36552",
            "2c4ac9e2c56d43febd1e648e799b3640",
            "4d88ac9d1f4a45ba82be2b8cce528610",
            "21ce52f5bfe14576978a3564641d53fa",
            "815ea5fd7abf4d4d8f124b4349d6cd13",
            "ca18166f633e42609447305bfde268bf",
            "180a8c23684a4dde8a32387eedfc2d7e",
            "370fb0d040044da59b2ec16ce9f4f0c1",
            "c92833279c9042538ae1c0dbfa88301a",
            "ecad67c3633140f49633b5585a628311",
            "24baddd981b64b7da766d558c5888054",
            "2ecc2ce32ce34abf9ebc1c110db87833",
            "05f622c22c92489eb8eeca111afb5be2",
            "78a990fb37844435b1b688fc1832109f",
            "0fe9fa0fbef3447985f6e7e2e85f7496",
            "48f2114d40e24719af8241f4e6de1a0e",
            "215c98f0d9b0402a922842730584c1ea",
            "b2f545d3fdfb47149c828685914a7cc9",
            "a0673082366545a986e1c7d9e88bfcd5",
            "1169fc90522d4057a28c55fbc2aea267",
            "51daba1958a54b53b41aa2de7a5404d4",
            "227b9bf90cd84202acbcc351769a6216",
            "929b08a791494825868e588bc94a7b46",
            "789f1f3eccc64d1a88f8f0bd442f09e7",
            "11ce9e4450164eb39d67def9da653d98",
            "5e89f4bca2f64e24addcc2641069190a",
            "37b1ac2c999c4bb482063a18e47d2f65",
            "a0ae19fcdc13499e997d26a2c637249a",
            "6cbb4fe2c7d148c58ac1fb1bbb7aab56",
            "e7813f170e7a4907b6fbe5c0bc87042d",
            "604ffe5a2df249c78d91a4cb79da69f1",
            "0a5d99015af3432583a85bb461c5b543",
            "0180d5e4a73b4060a30385bf5bc7adc6"
          ]
        },
        "id": "GCO10_n3qSto",
        "outputId": "0c59fd93-dd35-4ed2-8445-25bdde684a65"
      },
      "execution_count": null,
      "outputs": [
        {
          "output_type": "display_data",
          "data": {
            "text/plain": [
              "tokenizer_config.json:   0%|          | 0.00/48.0 [00:00<?, ?B/s]"
            ],
            "application/vnd.jupyter.widget-view+json": {
              "version_major": 2,
              "version_minor": 0,
              "model_id": "a0d209dc0a4e4aaf937bbe4ed802e174"
            }
          },
          "metadata": {}
        },
        {
          "output_type": "display_data",
          "data": {
            "text/plain": [
              "config.json:   0%|          | 0.00/483 [00:00<?, ?B/s]"
            ],
            "application/vnd.jupyter.widget-view+json": {
              "version_major": 2,
              "version_minor": 0,
              "model_id": "185ec5fdcf514bc4bd691514005c25fc"
            }
          },
          "metadata": {}
        },
        {
          "output_type": "display_data",
          "data": {
            "text/plain": [
              "vocab.txt:   0%|          | 0.00/232k [00:00<?, ?B/s]"
            ],
            "application/vnd.jupyter.widget-view+json": {
              "version_major": 2,
              "version_minor": 0,
              "model_id": "74885ce9b33a4fbe837b3214f4a36552"
            }
          },
          "metadata": {}
        },
        {
          "output_type": "display_data",
          "data": {
            "text/plain": [
              "tokenizer.json:   0%|          | 0.00/466k [00:00<?, ?B/s]"
            ],
            "application/vnd.jupyter.widget-view+json": {
              "version_major": 2,
              "version_minor": 0,
              "model_id": "2ecc2ce32ce34abf9ebc1c110db87833"
            }
          },
          "metadata": {}
        },
        {
          "output_type": "stream",
          "name": "stderr",
          "text": [
            "Xet Storage is enabled for this repo, but the 'hf_xet' package is not installed. Falling back to regular HTTP download. For better performance, install the package with: `pip install huggingface_hub[hf_xet]` or `pip install hf_xet`\n",
            "WARNING:huggingface_hub.file_download:Xet Storage is enabled for this repo, but the 'hf_xet' package is not installed. Falling back to regular HTTP download. For better performance, install the package with: `pip install huggingface_hub[hf_xet]` or `pip install hf_xet`\n"
          ]
        },
        {
          "output_type": "display_data",
          "data": {
            "text/plain": [
              "model.safetensors:   0%|          | 0.00/268M [00:00<?, ?B/s]"
            ],
            "application/vnd.jupyter.widget-view+json": {
              "version_major": 2,
              "version_minor": 0,
              "model_id": "929b08a791494825868e588bc94a7b46"
            }
          },
          "metadata": {}
        },
        {
          "output_type": "stream",
          "name": "stderr",
          "text": [
            "Some weights of DistilBertForSequenceClassification were not initialized from the model checkpoint at distilbert/distilbert-base-uncased and are newly initialized: ['classifier.bias', 'classifier.weight', 'pre_classifier.bias', 'pre_classifier.weight']\n",
            "You should probably TRAIN this model on a down-stream task to be able to use it for predictions and inference.\n"
          ]
        },
        {
          "output_type": "stream",
          "name": "stdout",
          "text": [
            "trainable params: 1,255,682 || all params: 68,210,692 || trainable%: 1.8409\n"
          ]
        }
      ]
    },
    {
      "cell_type": "markdown",
      "source": [
        "## Tokenize data using DistilBERT tokenizer"
      ],
      "metadata": {
        "id": "CAoinqLNlLcD"
      }
    },
    {
      "cell_type": "code",
      "source": [
        "def distilbert_tokenize_text(batch):\n",
        "  return distilbert_tokenizer(batch[\"sentence\"],padding=\"max_length\", truncation=True)"
      ],
      "metadata": {
        "id": "N5jsSQQhxGnI"
      },
      "execution_count": null,
      "outputs": []
    },
    {
      "cell_type": "code",
      "source": [
        "dataset_train_tokenized = dataset_train.map(distilbert_tokenize_text, batched=True, remove_columns=[\"idx\"])\n",
        "dataset_val_tokenized = dataset_val.map(distilbert_tokenize_text, batched=True, remove_columns=[\"idx\"])"
      ],
      "metadata": {
        "colab": {
          "base_uri": "https://localhost:8080/",
          "height": 81,
          "referenced_widgets": [
            "e87b93e46b7141b597863b28dadd56cd",
            "b56ee190073b4271b6c804311001fcd0",
            "583efdf5ee244f26b4dca23b6d1b9b16",
            "2c7a7e5c569e433c8875d435705f4edb",
            "55d600bee7ea4a4d85f82cc665d47a71",
            "8ed11165cd5442b59bc7433e93b4db03",
            "e4d1dc44e8b044acb56b6dbfd02041da",
            "136cc58054e542c3b73abc8e6e3fef34",
            "b90d667e51994cf5a008a28fba624068",
            "6ad7dc65e2e9475faf6027d479b1df84",
            "e340ab4f72c64dd18221caa16df3b69c",
            "d3210222ac9a47889303e064f39e2c98",
            "be286f63f7134884935bafb82e920357",
            "68796dcfd852446f8d9a3a4692773d90",
            "41dbd5f6b27c4a2cb306117fc209a4b7",
            "9469b1948d0d44f0af5da7e5275786a4",
            "91517467619e47168aafa663936218e5",
            "907b30ab74c34d4091f05540a2345c80",
            "fc881161428848769bab9f7fb14124d3",
            "19ff0cba5f27442295bcb41021083354",
            "3f62b903d6ee48d2a636e11086507ed4",
            "0d4187ee12174b8ebf3a3677100f5706"
          ]
        },
        "id": "_HCu4hIYxOpt",
        "outputId": "99a490f1-b423-47aa-b1f4-28c581af9cca"
      },
      "execution_count": null,
      "outputs": [
        {
          "output_type": "display_data",
          "data": {
            "text/plain": [
              "Map:   0%|          | 0/67349 [00:00<?, ? examples/s]"
            ],
            "application/vnd.jupyter.widget-view+json": {
              "version_major": 2,
              "version_minor": 0,
              "model_id": "e87b93e46b7141b597863b28dadd56cd"
            }
          },
          "metadata": {}
        },
        {
          "output_type": "display_data",
          "data": {
            "text/plain": [
              "Map:   0%|          | 0/872 [00:00<?, ? examples/s]"
            ],
            "application/vnd.jupyter.widget-view+json": {
              "version_major": 2,
              "version_minor": 0,
              "model_id": "d3210222ac9a47889303e064f39e2c98"
            }
          },
          "metadata": {}
        }
      ]
    },
    {
      "cell_type": "markdown",
      "source": [
        "## Define Training Arguments"
      ],
      "metadata": {
        "id": "AIEi8MsXlTIY"
      }
    },
    {
      "cell_type": "code",
      "source": [
        "training_args = TrainingArguments(\n",
        "    output_dir=\"distilbert_sentiment_analysis\",\n",
        "    per_device_train_batch_size=batch_size,\n",
        "    per_device_eval_batch_size=batch_size,\n",
        "    num_train_epochs=num_epochs,\n",
        "    learning_rate=learning_rate,\n",
        "    eval_strategy=\"epoch\",\n",
        "    save_strategy=\"epoch\",\n",
        "    logging_dir=\"./logs\",\n",
        "    logging_steps=50,\n",
        "    save_steps=1e6,\n",
        "    gradient_accumulation_steps=16,\n",
        "    load_best_model_at_end=True\n",
        ")"
      ],
      "metadata": {
        "id": "fXkVaX5AxUNn"
      },
      "execution_count": null,
      "outputs": []
    },
    {
      "cell_type": "markdown",
      "source": [
        "## Fine-tune Model"
      ],
      "metadata": {
        "id": "8xnoUrYFlZAT"
      }
    },
    {
      "cell_type": "code",
      "source": [
        "# Initialize Trainer\n",
        "trainer = Trainer(\n",
        "    model = distilbert_model,\n",
        "    args = training_args,\n",
        "    train_dataset = dataset_train_tokenized,\n",
        "    eval_dataset = dataset_val_tokenized,\n",
        "    compute_metrics = compute_metrics,\n",
        "    tokenizer = distilbert_tokenizer\n",
        ")\n",
        "\n",
        "trainer.train()"
      ],
      "metadata": {
        "colab": {
          "base_uri": "https://localhost:8080/",
          "height": 297
        },
        "id": "jnvxDBOtxlP9",
        "outputId": "ebeba1a8-9219-49b4-e4f6-1414ef9317be"
      },
      "execution_count": null,
      "outputs": [
        {
          "output_type": "stream",
          "name": "stderr",
          "text": [
            "<ipython-input-17-e1542281a8df>:2: FutureWarning: `tokenizer` is deprecated and will be removed in version 5.0.0 for `Trainer.__init__`. Use `processing_class` instead.\n",
            "  trainer = Trainer(\n",
            "No label_names provided for model class `PeftModelForSequenceClassification`. Since `PeftModel` hides base models input arguments, if label_names is not given, label_names can't be set automatically within `Trainer`. Note that empty label_names list will be used instead.\n"
          ]
        },
        {
          "output_type": "display_data",
          "data": {
            "text/plain": [
              "<IPython.core.display.HTML object>"
            ],
            "text/html": [
              "\n",
              "    <div>\n",
              "      \n",
              "      <progress value='393' max='393' style='width:300px; height:20px; vertical-align: middle;'></progress>\n",
              "      [393/393 27:58, Epoch 2/3]\n",
              "    </div>\n",
              "    <table border=\"1\" class=\"dataframe\">\n",
              "  <thead>\n",
              " <tr style=\"text-align: left;\">\n",
              "      <th>Epoch</th>\n",
              "      <th>Training Loss</th>\n",
              "      <th>Validation Loss</th>\n",
              "      <th>Accuracy</th>\n",
              "      <th>Precision</th>\n",
              "      <th>Recall</th>\n",
              "      <th>F1</th>\n",
              "    </tr>\n",
              "  </thead>\n",
              "  <tbody>\n",
              "    <tr>\n",
              "      <td>0</td>\n",
              "      <td>0.645600</td>\n",
              "      <td>0.524526</td>\n",
              "      <td>0.816514</td>\n",
              "      <td>0.784000</td>\n",
              "      <td>0.882883</td>\n",
              "      <td>0.830508</td>\n",
              "    </tr>\n",
              "    <tr>\n",
              "      <td>1</td>\n",
              "      <td>0.356200</td>\n",
              "      <td>0.376966</td>\n",
              "      <td>0.826835</td>\n",
              "      <td>0.844706</td>\n",
              "      <td>0.808559</td>\n",
              "      <td>0.826237</td>\n",
              "    </tr>\n",
              "    <tr>\n",
              "      <td>2</td>\n",
              "      <td>0.345200</td>\n",
              "      <td>0.369490</td>\n",
              "      <td>0.829128</td>\n",
              "      <td>0.842227</td>\n",
              "      <td>0.817568</td>\n",
              "      <td>0.829714</td>\n",
              "    </tr>\n",
              "  </tbody>\n",
              "</table><p>"
            ]
          },
          "metadata": {}
        },
        {
          "output_type": "execute_result",
          "data": {
            "text/plain": [
              "TrainOutput(global_step=393, training_loss=0.45861285454747636, metrics={'train_runtime': 1682.485, 'train_samples_per_second': 120.088, 'train_steps_per_second': 0.234, 'total_flos': 2.747436572737536e+16, 'train_loss': 0.45861285454747636, 'epoch': 2.9957244655581947})"
            ]
          },
          "metadata": {},
          "execution_count": 17
        }
      ]
    },
    {
      "cell_type": "markdown",
      "source": [
        "## Evaluate and Save Model"
      ],
      "metadata": {
        "id": "ItrDxECulfJB"
      }
    },
    {
      "cell_type": "code",
      "source": [
        "results = trainer.evaluate()"
      ],
      "metadata": {
        "colab": {
          "base_uri": "https://localhost:8080/",
          "height": 37
        },
        "id": "kRfi3H-4xsW-",
        "outputId": "9466a515-459e-46aa-caa8-1c18cd8a2114"
      },
      "execution_count": null,
      "outputs": [
        {
          "output_type": "display_data",
          "data": {
            "text/plain": [
              "<IPython.core.display.HTML object>"
            ],
            "text/html": [
              "\n",
              "    <div>\n",
              "      \n",
              "      <progress value='28' max='28' style='width:300px; height:20px; vertical-align: middle;'></progress>\n",
              "      [28/28 00:03]\n",
              "    </div>\n",
              "    "
            ]
          },
          "metadata": {}
        }
      ]
    },
    {
      "cell_type": "code",
      "source": [
        "distilbert_accuracy = results['eval_accuracy']\n",
        "distilbert_precision = results['eval_precision']\n",
        "distilbert_recall = results['eval_recall']\n",
        "distilbert_f1 = results['eval_f1']"
      ],
      "metadata": {
        "id": "0Fvo9eMqx5Rs"
      },
      "execution_count": null,
      "outputs": []
    },
    {
      "cell_type": "code",
      "source": [
        "trainer.save_model(\"distilbert_sentiment_analysis\")"
      ],
      "metadata": {
        "id": "pP7AIbwxxw-L"
      },
      "execution_count": null,
      "outputs": []
    },
    {
      "cell_type": "markdown",
      "source": [
        "# Knowledge Distillation from finetuned BERT to untrained distilBERT model"
      ],
      "metadata": {
        "id": "YZBKQeiWllp7"
      }
    },
    {
      "cell_type": "markdown",
      "source": [
        "## Define DistillationTrainingArguments and DistillationTrainer Classes"
      ],
      "metadata": {
        "id": "l56JYkjGlxeL"
      }
    },
    {
      "cell_type": "code",
      "source": [
        "from transformers import TrainingArguments\n",
        "\n",
        "class DistillationTrainingArguments(TrainingArguments):\n",
        "    def __init__(self, *args, alpha=0.5, temperature=2.0, **kwargs):\n",
        "        super().__init__(*args, **kwargs)\n",
        "        self.alpha = alpha\n",
        "        self.temperature = temperature"
      ],
      "metadata": {
        "id": "8W13CVGDyG3N"
      },
      "execution_count": null,
      "outputs": []
    },
    {
      "cell_type": "code",
      "source": [
        "import torch.nn as nn\n",
        "import torch.nn.functional as F\n",
        "from transformers import Trainer\n",
        "\n",
        "class DistillationTrainer(Trainer):\n",
        "    def __init__(self, *args, teacher_model=None, **kwargs):\n",
        "        super().__init__(*args, **kwargs)\n",
        "        self.teacher_model = teacher_model\n",
        "\n",
        "    def compute_loss(self, model, inputs, return_outputs=False, num_items_in_batch=None):\n",
        "        device = torch.device(\"cuda\" if torch.cuda.is_available() else \"cpu\")\n",
        "        inputs = inputs.to(device)\n",
        "        outputs_stu = model(**inputs)\n",
        "\n",
        "        loss_ce = outputs_stu.loss\n",
        "        logits_stu = outputs_stu.logits\n",
        "\n",
        "        with torch.no_grad():\n",
        "            outputs_tea = self.teacher_model(**inputs)\n",
        "            logits_tea = outputs_tea.logits\n",
        "\n",
        "        loss_fct = nn.KLDivLoss(reduction=\"batchmean\")\n",
        "        loss_kd = self.args.temperature ** 2 * loss_fct(\n",
        "            F.log_softmax(logits_stu / self.args.temperature, dim=-1),\n",
        "            F.softmax(logits_tea / self.args.temperature, dim=-1))\n",
        "\n",
        "        loss = self.args.alpha * loss_ce + (1. - self.args.alpha) * loss_kd\n",
        "        return (loss, outputs_stu) if return_outputs else loss"
      ],
      "metadata": {
        "id": "Fi6gi6pHyNjg"
      },
      "execution_count": null,
      "outputs": []
    },
    {
      "cell_type": "markdown",
      "source": [
        "## Load Student Model"
      ],
      "metadata": {
        "id": "F8SBkLBnmByc"
      }
    },
    {
      "cell_type": "code",
      "source": [
        "distilbert_kd_model = AutoModelForSequenceClassification.from_pretrained(\"distilbert/distilbert-base-uncased\")\n",
        "\n",
        "lora_config = LoraConfig(\n",
        "    r=8,\n",
        "    lora_alpha=32,\n",
        "    lora_dropout=0.1,\n",
        "    task_type=\"SEQ_CLS\",\n",
        "    target_modules=[\"distilbert.transformer.layer.0.attention.q_lin\",\n",
        "                     \"distilbert.transformer.layer.0.attention.k_lin\",\n",
        "                     \"distilbert.transformer.layer.0.attention.v_lin\",\n",
        "                     \"distilbert.transformer.layer.0.attention.out_lin\",\n",
        "                     \"distilbert.transformer.layer.0.ffn.lin1\",\n",
        "                     \"distilbert.transformer.layer.0.ffn.lin2\",\n",
        "                     \"distilbert.transformer.layer.1.attention.q_lin\",\n",
        "                     \"distilbert.transformer.layer.1.attention.k_lin\",\n",
        "                     \"distilbert.transformer.layer.1.attention.v_lin\",\n",
        "                     \"distilbert.transformer.layer.1.attention.out_lin\",\n",
        "                     \"distilbert.transformer.layer.1.ffn.lin1\",\n",
        "                     \"distilbert.transformer.layer.1.ffn.lin2\",\n",
        "                     \"distilbert.transformer.layer.2.attention.q_lin\",\n",
        "                     \"distilbert.transformer.layer.2.attention.k_lin\",\n",
        "                     \"distilbert.transformer.layer.2.attention.v_lin\",\n",
        "                     \"distilbert.transformer.layer.2.attention.out_lin\",\n",
        "                     \"distilbert.transformer.layer.2.ffn.lin1\",\n",
        "                     \"distilbert.transformer.layer.2.ffn.lin2\",\n",
        "                     \"distilbert.transformer.layer.3.attention.q_lin\",\n",
        "                     \"distilbert.transformer.layer.3.attention.k_lin\",\n",
        "                     \"distilbert.transformer.layer.3.attention.v_lin\",\n",
        "                     \"distilbert.transformer.layer.3.attention.out_lin\",\n",
        "                     \"distilbert.transformer.layer.3.ffn.lin1\",\n",
        "                     \"distilbert.transformer.layer.3.ffn.lin2\",\n",
        "                     \"distilbert.transformer.layer.4.attention.q_lin\",\n",
        "                     \"distilbert.transformer.layer.4.attention.k_lin\",\n",
        "                     \"distilbert.transformer.layer.4.attention.v_lin\",\n",
        "                     \"distilbert.transformer.layer.4.attention.out_lin\",\n",
        "                     \"distilbert.transformer.layer.4.ffn.lin1\",\n",
        "                     \"distilbert.transformer.layer.4.ffn.lin2\",\n",
        "                     \"distilbert.transformer.layer.5.attention.q_lin\",\n",
        "                     \"distilbert.transformer.layer.5.attention.k_lin\",\n",
        "                     \"distilbert.transformer.layer.5.attention.v_lin\",\n",
        "                     \"distilbert.transformer.layer.5.attention.out_lin\",\n",
        "                     \"distilbert.transformer.layer.5.ffn.lin1\",\n",
        "                     \"distilbert.transformer.layer.5.ffn.lin2\"]\n",
        ")\n",
        "\n",
        "distilbert_kd_model = get_peft_model(distilbert_kd_model, lora_config)\n",
        "distilbert_kd_model.print_trainable_parameters()"
      ],
      "metadata": {
        "colab": {
          "base_uri": "https://localhost:8080/"
        },
        "id": "-aQOXF0MyiGN",
        "outputId": "259edcef-2eca-4b2c-d4f7-6a666ba580f4"
      },
      "execution_count": null,
      "outputs": [
        {
          "output_type": "stream",
          "name": "stderr",
          "text": [
            "Some weights of DistilBertForSequenceClassification were not initialized from the model checkpoint at distilbert/distilbert-base-uncased and are newly initialized: ['classifier.bias', 'classifier.weight', 'pre_classifier.bias', 'pre_classifier.weight']\n",
            "You should probably TRAIN this model on a down-stream task to be able to use it for predictions and inference.\n"
          ]
        },
        {
          "output_type": "stream",
          "name": "stdout",
          "text": [
            "trainable params: 1,255,682 || all params: 68,210,692 || trainable%: 1.8409\n"
          ]
        }
      ]
    },
    {
      "cell_type": "code",
      "source": [
        "batch_size = 48\n",
        "num_epochs = 3\n",
        "learning_rate = 2e-5"
      ],
      "metadata": {
        "id": "VMH5gzqey3At"
      },
      "execution_count": null,
      "outputs": []
    },
    {
      "cell_type": "markdown",
      "source": [
        "## Define Training Arguments"
      ],
      "metadata": {
        "id": "59NJ97rCmGh1"
      }
    },
    {
      "cell_type": "code",
      "source": [
        "kd_training_args = DistillationTrainingArguments(\n",
        "    output_dir=\"distilbert_kd_sentiment_analysis\",\n",
        "    per_device_train_batch_size=batch_size,\n",
        "    weight_decay=0.01,\n",
        "    eval_strategy = \"epoch\",\n",
        "    learning_rate = learning_rate,\n",
        "    gradient_accumulation_steps=4,\n",
        "    num_train_epochs = num_epochs,\n",
        "    logging_steps=500,\n",
        "    save_steps=1000,\n",
        "    eval_steps=1000,\n",
        "    save_total_limit=2,\n",
        "    fp16=True,\n",
        "    report_to=\"none\"\n",
        ")"
      ],
      "metadata": {
        "id": "7okC4mgrzND-"
      },
      "execution_count": null,
      "outputs": []
    },
    {
      "cell_type": "code",
      "source": [
        "import torch\n",
        "from transformers import AutoConfig\n",
        "\n",
        "device = torch.device(\"cuda\" if torch.cuda.is_available() else \"cpu\")\n",
        "\n",
        "def student_init():\n",
        "    return (AutoModelForSequenceClassification\n",
        "            .from_pretrained(\"distilbert-base-uncased\", config=distilbert_kd_model.config).to(device))"
      ],
      "metadata": {
        "id": "I46rmKUB0QJu"
      },
      "execution_count": null,
      "outputs": []
    },
    {
      "cell_type": "markdown",
      "source": [
        "## Perform KD"
      ],
      "metadata": {
        "id": "czOXklhNmMFV"
      }
    },
    {
      "cell_type": "code",
      "source": [
        "trainer = DistillationTrainer(model_init=student_init,\n",
        "    teacher_model=bert_model, args=kd_training_args,\n",
        "    train_dataset=dataset_train_tokenized, eval_dataset=dataset_val_tokenized,\n",
        "    compute_metrics=compute_metrics, tokenizer=distilbert_tokenizer)"
      ],
      "metadata": {
        "colab": {
          "base_uri": "https://localhost:8080/",
          "height": 176,
          "referenced_widgets": [
            "3b4c26d884e04df7a0f70c6f8f9c2bfc",
            "4915db28c4274da8910212a829723021",
            "1c9f185dadb14b928bb8b0faf9f5f9f5",
            "3a9f417db86b469fa70ef50dd1ee74be",
            "5d5f9b6e6d4e47c4a88a4a7323a113de",
            "9869edd55dd641ffbe60582f0432d1d2",
            "d86ce4d3dc17468b8f4fd0647e8528fd",
            "f85fdd8138a54142b0f3395b8eb8dd63",
            "f50954fe19cb4c16aacec6668f0ccb03",
            "64ad3681376d48ae9be78f56d405f767",
            "07969cbac5904549a362df5981319de9"
          ]
        },
        "id": "YwQXOhxN0yYG",
        "outputId": "31ef1dc5-5047-489b-cdd8-12b505f4eac8"
      },
      "execution_count": null,
      "outputs": [
        {
          "output_type": "stream",
          "name": "stderr",
          "text": [
            "<ipython-input-22-2423a8622cb5>:7: FutureWarning: `tokenizer` is deprecated and will be removed in version 5.0.0 for `DistillationTrainer.__init__`. Use `processing_class` instead.\n",
            "  super().__init__(*args, **kwargs)\n",
            "Xet Storage is enabled for this repo, but the 'hf_xet' package is not installed. Falling back to regular HTTP download. For better performance, install the package with: `pip install huggingface_hub[hf_xet]` or `pip install hf_xet`\n",
            "WARNING:huggingface_hub.file_download:Xet Storage is enabled for this repo, but the 'hf_xet' package is not installed. Falling back to regular HTTP download. For better performance, install the package with: `pip install huggingface_hub[hf_xet]` or `pip install hf_xet`\n"
          ]
        },
        {
          "output_type": "display_data",
          "data": {
            "text/plain": [
              "model.safetensors:   0%|          | 0.00/268M [00:00<?, ?B/s]"
            ],
            "application/vnd.jupyter.widget-view+json": {
              "version_major": 2,
              "version_minor": 0,
              "model_id": "3b4c26d884e04df7a0f70c6f8f9c2bfc"
            }
          },
          "metadata": {}
        },
        {
          "output_type": "stream",
          "name": "stderr",
          "text": [
            "Some weights of DistilBertForSequenceClassification were not initialized from the model checkpoint at distilbert-base-uncased and are newly initialized: ['classifier.bias', 'classifier.weight', 'pre_classifier.bias', 'pre_classifier.weight']\n",
            "You should probably TRAIN this model on a down-stream task to be able to use it for predictions and inference.\n"
          ]
        }
      ]
    },
    {
      "cell_type": "code",
      "source": [
        "trainer.train()"
      ],
      "metadata": {
        "colab": {
          "base_uri": "https://localhost:8080/",
          "height": 279
        },
        "id": "Yq4wXtPx1WyT",
        "outputId": "f63deab3-58e3-4439-b805-1097aef0ca2a"
      },
      "execution_count": null,
      "outputs": [
        {
          "output_type": "stream",
          "name": "stderr",
          "text": [
            "Some weights of DistilBertForSequenceClassification were not initialized from the model checkpoint at distilbert-base-uncased and are newly initialized: ['classifier.bias', 'classifier.weight', 'pre_classifier.bias', 'pre_classifier.weight']\n",
            "You should probably TRAIN this model on a down-stream task to be able to use it for predictions and inference.\n"
          ]
        },
        {
          "output_type": "display_data",
          "data": {
            "text/plain": [
              "<IPython.core.display.HTML object>"
            ],
            "text/html": [
              "\n",
              "    <div>\n",
              "      \n",
              "      <progress value='1053' max='1053' style='width:300px; height:20px; vertical-align: middle;'></progress>\n",
              "      [1053/1053 26:27, Epoch 3/3]\n",
              "    </div>\n",
              "    <table border=\"1\" class=\"dataframe\">\n",
              "  <thead>\n",
              " <tr style=\"text-align: left;\">\n",
              "      <th>Epoch</th>\n",
              "      <th>Training Loss</th>\n",
              "      <th>Validation Loss</th>\n",
              "      <th>Accuracy</th>\n",
              "      <th>Precision</th>\n",
              "      <th>Recall</th>\n",
              "      <th>F1</th>\n",
              "    </tr>\n",
              "  </thead>\n",
              "  <tbody>\n",
              "    <tr>\n",
              "      <td>1</td>\n",
              "      <td>No log</td>\n",
              "      <td>0.151425</td>\n",
              "      <td>0.903670</td>\n",
              "      <td>0.909091</td>\n",
              "      <td>0.900901</td>\n",
              "      <td>0.904977</td>\n",
              "    </tr>\n",
              "    <tr>\n",
              "      <td>2</td>\n",
              "      <td>0.185300</td>\n",
              "      <td>0.144507</td>\n",
              "      <td>0.907110</td>\n",
              "      <td>0.904232</td>\n",
              "      <td>0.914414</td>\n",
              "      <td>0.909295</td>\n",
              "    </tr>\n",
              "    <tr>\n",
              "      <td>3</td>\n",
              "      <td>0.106300</td>\n",
              "      <td>0.147760</td>\n",
              "      <td>0.905963</td>\n",
              "      <td>0.900442</td>\n",
              "      <td>0.916667</td>\n",
              "      <td>0.908482</td>\n",
              "    </tr>\n",
              "  </tbody>\n",
              "</table><p>"
            ]
          },
          "metadata": {}
        },
        {
          "output_type": "execute_result",
          "data": {
            "text/plain": [
              "TrainOutput(global_step=1053, training_loss=0.14339027649317032, metrics={'train_runtime': 1588.8815, 'train_samples_per_second': 127.163, 'train_steps_per_second': 0.663, 'total_flos': 2.676464049624883e+16, 'train_loss': 0.14339027649317032, 'epoch': 3.0})"
            ]
          },
          "metadata": {},
          "execution_count": 28
        }
      ]
    },
    {
      "cell_type": "markdown",
      "source": [
        "## Evaluate and Save Model"
      ],
      "metadata": {
        "id": "g-6TGmflmPWJ"
      }
    },
    {
      "cell_type": "code",
      "source": [
        "results = trainer.evaluate()"
      ],
      "metadata": {
        "colab": {
          "base_uri": "https://localhost:8080/",
          "height": 37
        },
        "id": "tZusM_0e1eOp",
        "outputId": "a7ee1085-030a-4dc1-fac2-368df9112821"
      },
      "execution_count": null,
      "outputs": [
        {
          "output_type": "display_data",
          "data": {
            "text/plain": [
              "<IPython.core.display.HTML object>"
            ],
            "text/html": [
              "\n",
              "    <div>\n",
              "      \n",
              "      <progress value='109' max='109' style='width:300px; height:20px; vertical-align: middle;'></progress>\n",
              "      [109/109 00:06]\n",
              "    </div>\n",
              "    "
            ]
          },
          "metadata": {}
        }
      ]
    },
    {
      "cell_type": "code",
      "source": [
        "distilbert_kd_accuracy = results['eval_accuracy']\n",
        "distilbert_kd_precision = results['eval_precision']\n",
        "distilbert_kd_recall = results['eval_recall']\n",
        "distilbert_kd_f1 = results['eval_f1']"
      ],
      "metadata": {
        "id": "fg38ClqD1ibF"
      },
      "execution_count": null,
      "outputs": []
    },
    {
      "cell_type": "code",
      "source": [
        "trainer.save_model(\"distilbert_kd_sentiment_analysis\")"
      ],
      "metadata": {
        "id": "ng8pXvBD3kE0"
      },
      "execution_count": null,
      "outputs": []
    },
    {
      "cell_type": "markdown",
      "source": [
        "# Plot the Results"
      ],
      "metadata": {
        "id": "J4nrkuNcmTgz"
      }
    },
    {
      "cell_type": "markdown",
      "source": [
        "## Accuracy"
      ],
      "metadata": {
        "id": "373GHWlUmXx5"
      }
    },
    {
      "cell_type": "code",
      "source": [
        "import numpy as np\n",
        "import matplotlib.pyplot as plt\n",
        "\n",
        "models = [\"BERT Fine-Tuned\", \"DistilBERT Fine-Tuned\", \"DistilBERT KD\"]\n",
        "accuracy = [bert_accuracy, distilbert_accuracy, distilbert_kd_accuracy]\n",
        "colors = ['orange', 'cyan', 'green']\n",
        "\n",
        "x = np.arange(len(models))\n",
        "width = 0.35\n",
        "\n",
        "fig, ax = plt.subplots(figsize=(8, 6))\n",
        "\n",
        "bars = ax.bar(x - width/2, accuracy, width, label='Accuracy', color=colors)\n",
        "\n",
        "\n",
        "for bar in bars:\n",
        "    height = bar.get_height()\n",
        "    ax.text(bar.get_x() + bar.get_width()/2, height, f'{height:.2f}', ha='center', va='bottom')\n",
        "\n",
        "ax.set_xlabel(\"Models\")\n",
        "ax.set_ylabel(\"Score\")\n",
        "ax.set_title(\"Comparison of Model Accuracy\")\n",
        "ax.set_xticks(x)\n",
        "ax.set_xticklabels(models)\n",
        "ax.legend()\n",
        "\n",
        "plt.show()"
      ],
      "metadata": {
        "colab": {
          "base_uri": "https://localhost:8080/",
          "height": 564
        },
        "id": "l1VVKMRC5y1Z",
        "outputId": "40490e21-6310-4475-df3b-3c51dabb2aa7"
      },
      "execution_count": null,
      "outputs": [
        {
          "output_type": "display_data",
          "data": {
            "text/plain": [
              "<Figure size 800x600 with 1 Axes>"
            ],
            "image/png": "[encoded data removed]"
          },
          "metadata": {}
        }
      ]
    },
    {
      "cell_type": "markdown",
      "source": [
        "## F1-Score"
      ],
      "metadata": {
        "id": "h_8QTZhJmcQu"
      }
    },
    {
      "cell_type": "code",
      "source": [
        "models = [\"BERT Fine-Tuned\", \"DistilBERT Fine-Tuned\", \"DistilBERT KD\"]\n",
        "f1_score = [bert_f1, distilbert_f1, distilbert_kd_f1]\n",
        "colors = ['orange', 'cyan', 'green']\n",
        "\n",
        "x = np.arange(len(models))\n",
        "width = 0.35\n",
        "\n",
        "fig, ax = plt.subplots(figsize=(8, 6))\n",
        "\n",
        "bars = ax.bar(x + width/2, f1_score, width, label='F1-Score', color=colors)\n",
        "\n",
        "for bar in bars:\n",
        "    height = bar.get_height()\n",
        "    ax.text(bar.get_x() + bar.get_width()/2, height, f'{height:.2f}', ha='center', va='bottom')\n",
        "\n",
        "ax.set_xlabel(\"Models\")\n",
        "ax.set_ylabel(\"Score\")\n",
        "ax.set_title(\"Comparison of Model F1-Score\")\n",
        "ax.set_xticks(x)\n",
        "ax.set_xticklabels(models)\n",
        "ax.legend()\n",
        "\n",
        "plt.show()"
      ],
      "metadata": {
        "colab": {
          "base_uri": "https://localhost:8080/",
          "height": 564
        },
        "id": "2E3vhfFRCUmd",
        "outputId": "6766ef29-a9be-4f52-c69e-e19c165878f8"
      },
      "execution_count": null,
      "outputs": [
        {
          "output_type": "display_data",
          "data": {
            "text/plain": [
              "<Figure size 800x600 with 1 Axes>"
            ],
            "image/png": "[encoded data removed]"
          },
          "metadata": {}
        }
      ]
    },
    {
      "cell_type": "markdown",
      "source": [
        "## Precision"
      ],
      "metadata": {
        "id": "HRUJjSzDmfcJ"
      }
    },
    {
      "cell_type": "code",
      "source": [
        "import numpy as np\n",
        "import matplotlib.pyplot as plt\n",
        "\n",
        "models = [\"BERT Fine-Tuned\", \"DistilBERT Fine-Tuned\", \"DistilBERT KD\"]\n",
        "precision = [bert_precision, distilbert_precision, distilbert_kd_precision]\n",
        "colors = ['orange', 'cyan', 'green']\n",
        "\n",
        "x = np.arange(len(models))\n",
        "width = 0.35\n",
        "\n",
        "fig, ax = plt.subplots(figsize=(8, 6))\n",
        "\n",
        "bars = ax.bar(x - width/2, precision, width, label='Precision', color=colors)\n",
        "\n",
        "\n",
        "for bar in bars:\n",
        "    height = bar.get_height()\n",
        "    ax.text(bar.get_x() + bar.get_width()/2, height, f'{height:.2f}', ha='center', va='bottom')\n",
        "\n",
        "ax.set_xlabel(\"Models\")\n",
        "ax.set_ylabel(\"Score\")\n",
        "ax.set_title(\"Comparison of Model Precision\")\n",
        "ax.set_xticks(x)\n",
        "ax.set_xticklabels(models)\n",
        "ax.legend()\n",
        "\n",
        "plt.show()"
      ],
      "metadata": {
        "colab": {
          "base_uri": "https://localhost:8080/",
          "height": 564
        },
        "id": "oF74STmxHiqd",
        "outputId": "5f614296-e05d-462a-866b-ada9e3c4a34f"
      },
      "execution_count": null,
      "outputs": [
        {
          "output_type": "display_data",
          "data": {
            "text/plain": [
              "<Figure size 800x600 with 1 Axes>"
            ],
            "image/png": "[encoded data removed]"
          },
          "metadata": {}
        }
      ]
    },
    {
      "cell_type": "markdown",
      "source": [
        "## Recall"
      ],
      "metadata": {
        "id": "0XR12ijTmiNb"
      }
    },
    {
      "cell_type": "code",
      "source": [
        "import numpy as np\n",
        "import matplotlib.pyplot as plt\n",
        "\n",
        "models = [\"BERT Fine-Tuned\", \"DistilBERT Fine-Tuned\", \"DistilBERT KD\"]\n",
        "recall = [bert_recall, distilbert_recall, distilbert_kd_recall]\n",
        "colors = ['orange', 'cyan', 'green']\n",
        "\n",
        "x = np.arange(len(models))\n",
        "width = 0.35\n",
        "\n",
        "fig, ax = plt.subplots(figsize=(8, 6))\n",
        "\n",
        "bars = ax.bar(x - width/2, recall, width, label='Recall', color=colors)\n",
        "\n",
        "\n",
        "for bar in bars:\n",
        "    height = bar.get_height()\n",
        "    ax.text(bar.get_x() + bar.get_width()/2, height, f'{height:.2f}', ha='center', va='bottom')\n",
        "\n",
        "ax.set_xlabel(\"Models\")\n",
        "ax.set_ylabel(\"Score\")\n",
        "ax.set_title(\"Comparison of Model Recall\")\n",
        "ax.set_xticks(x)\n",
        "ax.set_xticklabels(models)\n",
        "ax.legend()\n",
        "\n",
        "plt.show()"
      ],
      "metadata": {
        "colab": {
          "base_uri": "https://localhost:8080/",
          "height": 564
        },
        "id": "ZgtcoPVdH5gp",
        "outputId": "409fab44-a2c8-411e-b9c3-7a0bd4d62103"
      },
      "execution_count": null,
      "outputs": [
        {
          "output_type": "display_data",
          "data": {
            "text/plain": [
              "<Figure size 800x600 with 1 Axes>"
            ],
            "image/png": "[encoded data removed]"
          },
          "metadata": {}
        }
      ]
    },
    {
      "cell_type": "markdown",
      "source": [
        "## Teacher-Student Model Parameters Comparision"
      ],
      "metadata": {
        "id": "F5hDwl7HmmTe"
      }
    },
    {
      "cell_type": "code",
      "source": [
        "from transformers import AutoModelForSequenceClassification\n",
        "import os\n",
        "\n",
        "def compute_parameters(model_path):\n",
        "  model = AutoModelForSequenceClassification.from_pretrained(model_path)\n",
        "  parameters = model.num_parameters()\n",
        "  return parameters"
      ],
      "metadata": {
        "id": "hKk-CbaVBDr9"
      },
      "execution_count": null,
      "outputs": []
    },
    {
      "cell_type": "code",
      "source": [
        "bert_model_parameters = compute_parameters(model_path=\"/content/bert_sentiment_analysis\")\n",
        "bert_model_parameters"
      ],
      "metadata": {
        "colab": {
          "base_uri": "https://localhost:8080/"
        },
        "id": "_4EW6F23EGVG",
        "outputId": "de578f30-b249-465e-8d0f-9b56ecb30781"
      },
      "execution_count": null,
      "outputs": [
        {
          "output_type": "execute_result",
          "data": {
            "text/plain": [
              "109483778"
            ]
          },
          "metadata": {},
          "execution_count": 37
        }
      ]
    },
    {
      "cell_type": "code",
      "source": [
        "distilbert_model_parameters = compute_parameters(model_path=\"/content/distilbert_sentiment_analysis\")\n",
        "distilbert_model_parameters"
      ],
      "metadata": {
        "colab": {
          "base_uri": "https://localhost:8080/"
        },
        "id": "t6ngNSfgEX0q",
        "outputId": "e32ebee0-2d94-4a0e-cf65-c5bf33afbeef"
      },
      "execution_count": null,
      "outputs": [
        {
          "output_type": "stream",
          "name": "stderr",
          "text": [
            "Some weights of DistilBertForSequenceClassification were not initialized from the model checkpoint at distilbert/distilbert-base-uncased and are newly initialized: ['classifier.bias', 'classifier.weight', 'pre_classifier.bias', 'pre_classifier.weight']\n",
            "You should probably TRAIN this model on a down-stream task to be able to use it for predictions and inference.\n"
          ]
        },
        {
          "output_type": "execute_result",
          "data": {
            "text/plain": [
              "68210692"
            ]
          },
          "metadata": {},
          "execution_count": 38
        }
      ]
    },
    {
      "cell_type": "code",
      "source": [
        "distilbert_model_kd_parameters = compute_parameters(model_path=\"/content/distilbert_kd_sentiment_analysis\")\n",
        "distilbert_model_kd_parameters"
      ],
      "metadata": {
        "colab": {
          "base_uri": "https://localhost:8080/"
        },
        "id": "RfdKK3B1EVf_",
        "outputId": "9d655f5d-16f8-450a-e379-5c012e5eef5a"
      },
      "execution_count": null,
      "outputs": [
        {
          "output_type": "execute_result",
          "data": {
            "text/plain": [
              "66955010"
            ]
          },
          "metadata": {},
          "execution_count": 39
        }
      ]
    },
    {
      "cell_type": "code",
      "source": [
        "decrease = (bert_model_parameters-distilbert_model_kd_parameters)/bert_model_parameters\n",
        "print(decrease*100)"
      ],
      "metadata": {
        "colab": {
          "base_uri": "https://localhost:8080/"
        },
        "id": "bUPx6C_DElsF",
        "outputId": "bba148cf-f824-4780-9cce-f0415042b4b0"
      },
      "execution_count": null,
      "outputs": [
        {
          "output_type": "stream",
          "name": "stdout",
          "text": [
            "38.84481224241275\n"
          ]
        }
      ]
    },
    {
      "cell_type": "markdown",
      "source": [
        "## Teacher-Student Model Size Comaprision"
      ],
      "metadata": {
        "id": "Sc7s2a3rmutN"
      }
    },
    {
      "cell_type": "code",
      "source": [
        "!ls /content/bert_sentiment_analysis -al --block-size=MB"
      ],
      "metadata": {
        "colab": {
          "base_uri": "https://localhost:8080/"
        },
        "id": "cFQej1hsE1L7",
        "outputId": "7b390dc8-3750-40f2-e31f-30cfa660a145"
      },
      "execution_count": null,
      "outputs": [
        {
          "output_type": "stream",
          "name": "stdout",
          "text": [
            "total 439MB\n",
            "drwxr-xr-x 5 root root   1MB Apr 15 19:47 .\n",
            "drwxr-xr-x 1 root root   1MB Apr 15 20:15 ..\n",
            "drwxr-xr-x 2 root root   1MB Apr 15 19:04 checkpoint-131\n",
            "drwxr-xr-x 2 root root   1MB Apr 15 19:25 checkpoint-262\n",
            "drwxr-xr-x 2 root root   1MB Apr 15 19:46 checkpoint-393\n",
            "-rw-r--r-- 1 root root   1MB Apr 15 19:47 config.json\n",
            "-rw-r--r-- 1 root root 438MB Apr 15 19:47 model.safetensors\n",
            "-rw-r--r-- 1 root root   1MB Apr 15 19:47 special_tokens_map.json\n",
            "-rw-r--r-- 1 root root   1MB Apr 15 19:47 tokenizer_config.json\n",
            "-rw-r--r-- 1 root root   1MB Apr 15 19:47 tokenizer.json\n",
            "-rw-r--r-- 1 root root   1MB Apr 15 19:47 training_args.bin\n",
            "-rw-r--r-- 1 root root   1MB Apr 15 19:47 vocab.txt\n"
          ]
        }
      ]
    },
    {
      "cell_type": "code",
      "source": [
        "!ls /content/distilbert_kd_sentiment_analysis -al --block-size=MB"
      ],
      "metadata": {
        "colab": {
          "base_uri": "https://localhost:8080/"
        },
        "id": "nSYhxZiQFGXg",
        "outputId": "eb091b44-2d02-4aff-df48-05bb61dc95f5"
      },
      "execution_count": null,
      "outputs": [
        {
          "output_type": "stream",
          "name": "stdout",
          "text": [
            "total 269MB\n",
            "drwxr-xr-x 4 root root   1MB Apr 15 20:42 .\n",
            "drwxr-xr-x 1 root root   1MB Apr 15 20:15 ..\n",
            "drwxr-xr-x 2 root root   1MB Apr 15 20:40 checkpoint-1000\n",
            "drwxr-xr-x 2 root root   1MB Apr 15 20:41 checkpoint-1053\n",
            "-rw-r--r-- 1 root root   1MB Apr 15 20:42 config.json\n",
            "-rw-r--r-- 1 root root 268MB Apr 15 20:42 model.safetensors\n",
            "-rw-r--r-- 1 root root   1MB Apr 15 20:42 special_tokens_map.json\n",
            "-rw-r--r-- 1 root root   1MB Apr 15 20:42 tokenizer_config.json\n",
            "-rw-r--r-- 1 root root   1MB Apr 15 20:42 tokenizer.json\n",
            "-rw-r--r-- 1 root root   1MB Apr 15 20:42 training_args.bin\n",
            "-rw-r--r-- 1 root root   1MB Apr 15 20:42 vocab.txt\n"
          ]
        }
      ]
    },
    {
      "cell_type": "markdown",
      "source": [
        "## Teacher-Student Inference Time Comparision"
      ],
      "metadata": {
        "id": "EgKnK5TQm0wA"
      }
    },
    {
      "cell_type": "code",
      "source": [
        "from transformers import pipeline\n",
        "import time\n",
        "\n",
        "pipe = pipeline(\"text-classification\", model=\"/content/bert_sentiment_analysis\", tokenizer='bert-base-uncased', device='cpu')\n",
        "\n",
        "sample_input = dataset['train']['sentence'][101]\n",
        "\n",
        "for _ in range(10):\n",
        "  _ = pipe(sample_input)\n",
        "\n",
        "start = time.time()\n",
        "for _ in range(100):\n",
        "  _ = pipe(sample_input)\n",
        "total_time_bert_model = time.time()-start\n",
        "print(\"Total time to process 100 requests for BERT Model: \",total_time_bert_model)"
      ],
      "metadata": {
        "colab": {
          "base_uri": "https://localhost:8080/",
          "height": 181,
          "referenced_widgets": [
            "1c623cef6ab8402f8cf34b6e52f95bd3",
            "176b30883c7f4c62be873d045c864828",
            "5111d8c1b4a8431db6a33f9d8920bdbf",
            "bd8536b6fe59480ea1237ce555cda591",
            "08effda771b64b2cb91e0e20ab1aeff0",
            "3f70018130aa4f90bb3f7aee5ac34847",
            "bdcd2ce5d88c40b1a5131f40568c2505",
            "5a43e643db754bcd9dcfc8c2a953d963",
            "e336f3155e2c469e93d861c2ee3e10c8",
            "36a9e15b3ae0464686ae009e1f6274f7",
            "f1538b402af648fbb5cb03e9bcb24390",
            "707477e1dc7140a1b694abc7f4fcdd8c",
            "f5685d3e5ab64e96bcfaf604e2bad354",
            "21c22036b48548878a0ef47d728b1e5f",
            "3eaec8e64023475a9eda126a43af559b",
            "b9a928963d1b40a9a2e97da8e124378d",
            "81ece15315d947d3be8a6c94e4e51aff",
            "4e8449342059403482eabeef49efd876",
            "4cbf701533c943f69391e85b87e1bb8d",
            "0a1ba42bf7ae4ff1a81b53caefb85ac3",
            "94d04bdb2b304548b5e8c5faa1f5c328",
            "8bd75ad259bf42a49ab358cee21dac06",
            "771f596ce32343d1bd5800e6ea1a5df2",
            "760d0142a1014520987aaf1d255b54f7",
            "9cc47eee94724222b596f07a0dba7d95",
            "6bff6f9441384e129d87e55bcb420619",
            "71e3a40679a548f3ae62dac44434fe70",
            "ced58b8b5795429392bcce06e628f655",
            "1a38aea8ba8a4a6c8fa376ec70bb73f4",
            "71b855760a7e4665b8d1b2a5aefcc1df",
            "8b4f484946f14ebb89cf23aefcba139a",
            "83e7b2c853a44cafbf17691b84d8fc84",
            "63c050f2bf3f4003bd9f70ccd2948e3d",
            "35c93384f46540fbb3f9c16d9cd2f908",
            "cd586eaf9ae0415eabc77f388f5337cc",
            "77d21137b106459a8779ecf6e502a856",
            "e1458cc0e02c4417999f23dcf387dc4c",
            "b6c5f4937a6541c78a14769a7daaa256",
            "6eca9e39827d467d8602766f69ed2c84",
            "153eecba1f354766a0359e6ef059f780",
            "f7415c96780f4565883058170ac31e65",
            "b5ef33eadd9f4f45985c5eea3e1de1bb",
            "77c3a4354fd648ce9ddf32438dface41",
            "8f399412ec69415c87904f3b5d7b5445"
          ]
        },
        "id": "vntbobEtFLag",
        "outputId": "27b54e3f-2aab-4054-9cd6-e655c3f0b755"
      },
      "execution_count": null,
      "outputs": [
        {
          "output_type": "display_data",
          "data": {
            "text/plain": [
              "tokenizer_config.json:   0%|          | 0.00/48.0 [00:00<?, ?B/s]"
            ],
            "application/vnd.jupyter.widget-view+json": {
              "version_major": 2,
              "version_minor": 0,
              "model_id": "1c623cef6ab8402f8cf34b6e52f95bd3"
            }
          },
          "metadata": {}
        },
        {
          "output_type": "display_data",
          "data": {
            "text/plain": [
              "config.json:   0%|          | 0.00/570 [00:00<?, ?B/s]"
            ],
            "application/vnd.jupyter.widget-view+json": {
              "version_major": 2,
              "version_minor": 0,
              "model_id": "707477e1dc7140a1b694abc7f4fcdd8c"
            }
          },
          "metadata": {}
        },
        {
          "output_type": "display_data",
          "data": {
            "text/plain": [
              "vocab.txt:   0%|          | 0.00/232k [00:00<?, ?B/s]"
            ],
            "application/vnd.jupyter.widget-view+json": {
              "version_major": 2,
              "version_minor": 0,
              "model_id": "771f596ce32343d1bd5800e6ea1a5df2"
            }
          },
          "metadata": {}
        },
        {
          "output_type": "display_data",
          "data": {
            "text/plain": [
              "tokenizer.json:   0%|          | 0.00/466k [00:00<?, ?B/s]"
            ],
            "application/vnd.jupyter.widget-view+json": {
              "version_major": 2,
              "version_minor": 0,
              "model_id": "35c93384f46540fbb3f9c16d9cd2f908"
            }
          },
          "metadata": {}
        },
        {
          "output_type": "stream",
          "name": "stderr",
          "text": [
            "Device set to use cpu\n"
          ]
        },
        {
          "output_type": "stream",
          "name": "stdout",
          "text": [
            "Total time to process 100 requests for BERT Model:  2.0406835079193115\n"
          ]
        }
      ]
    },
    {
      "cell_type": "code",
      "source": [
        "from transformers import pipeline\n",
        "import time\n",
        "\n",
        "pipe = pipeline(\"text-classification\", model=\"/content/distilbert_kd_sentiment_analysis\", tokenizer='distilbert-base-uncased', device='cpu')\n",
        "\n",
        "sample_input = dataset['train']['sentence'][101]\n",
        "\n",
        "for _ in range(10):\n",
        "  _ = pipe(sample_input)\n",
        "\n",
        "start = time.time()\n",
        "for _ in range(100):\n",
        "  _ = pipe(sample_input)\n",
        "total_time_distilbert_kd_model = time.time()-start\n",
        "print(\"Total time to process 100 requests for DISTILBERT KD Model: \",total_time_distilbert_kd_model)"
      ],
      "metadata": {
        "colab": {
          "base_uri": "https://localhost:8080/",
          "height": 181,
          "referenced_widgets": [
            "0f9d97c2167e420b901744e8c5ce25fe",
            "a189226e8e5342519cfbeb93e80c2460",
            "28315f84a8864d59819a61de194bcd9a",
            "96f056d6ef8748e38174190eadca8c33",
            "d4aa9d2736b04151916718f13aa1b2da",
            "8456a53bd3724f038c9f3c6fdbd3dea9",
            "85938e795b33437aaf625e403e1d7d27",
            "13c3a40f79594223834bd87c901fe8c0",
            "da71b22c1fd84d5f952e8e57bb18ef41",
            "94042c9398344d8287a5cdb226d96935",
            "b6afdc6cced9433d912a2638dda89568",
            "621095db19a547f6b62ec7ecf99750bc",
            "8648c41ad5704254a23ad21dce9d06b2",
            "cfa3a4ae7d564cbdb383669a1d132b6d",
            "6423f8c8aa1b4fed9f8a929f032806ec",
            "728bb3dc058a4757bf2170a74b3e54dd",
            "b2ce5cf7a9244f11b420ba1cc01ca26d",
            "416b698e9b134c3f93f0e6b9186e70f0",
            "eda0280db5af47fc8d4d2b799e7d5945",
            "180c5a694832461d89a45882f501e0bd",
            "7d1a736680454d28ae65eb2185b7cb5c",
            "e02068db1bc5461fa655a373c08d0393",
            "e6dcb0e5c05443b49624530c943c0898",
            "586cfefe46974db194e71721db4c1c2a",
            "604aa240ea874036aefb24b433d0acae",
            "b5b2b4bb196b42c1bdb509c8e4816910",
            "6557374cf1674754bfe514985721a6aa",
            "d8212fabc3804c8d92a47e4ecf19f8c9",
            "b7285303732940378374c2d1e057cfb3",
            "3d3dbeb2605544299a4c63be75d6c862",
            "7efe09946d194ae5baf12c034ef8d64d",
            "fe93c2b2cba240739ad908fd8fe1196e",
            "9ad4aa2d6c49482384620801a855cde2",
            "44a6a93592b04ebe916802d702789cac",
            "50c71763e16145639de33d5b44fe6421",
            "1ceb1215b8b2425483d030ca5e2b6a93",
            "93740c34769d4059bdf10c1ef383e042",
            "165cf91b3061435ebffb751ca5b96992",
            "de22afa5666749008f182161edda1447",
            "9a674e94f90a4ec3ad7f25637abe9b4a",
            "d64988fe6f6649efbda299d82a88d9ce",
            "b1117e64382b47cd8d6c29e6df2201e7",
            "9009bea05b4944af87efb08de26d792e",
            "c4ab4af542014367a3be6b3f8c1a0bde"
          ]
        },
        "id": "XlpBzJfEFygG",
        "outputId": "55a60787-d3bf-4b72-f8e9-59cac37c5610"
      },
      "execution_count": null,
      "outputs": [
        {
          "output_type": "display_data",
          "data": {
            "text/plain": [
              "tokenizer_config.json:   0%|          | 0.00/48.0 [00:00<?, ?B/s]"
            ],
            "application/vnd.jupyter.widget-view+json": {
              "version_major": 2,
              "version_minor": 0,
              "model_id": "0f9d97c2167e420b901744e8c5ce25fe"
            }
          },
          "metadata": {}
        },
        {
          "output_type": "display_data",
          "data": {
            "text/plain": [
              "config.json:   0%|          | 0.00/483 [00:00<?, ?B/s]"
            ],
            "application/vnd.jupyter.widget-view+json": {
              "version_major": 2,
              "version_minor": 0,
              "model_id": "621095db19a547f6b62ec7ecf99750bc"
            }
          },
          "metadata": {}
        },
        {
          "output_type": "display_data",
          "data": {
            "text/plain": [
              "vocab.txt:   0%|          | 0.00/232k [00:00<?, ?B/s]"
            ],
            "application/vnd.jupyter.widget-view+json": {
              "version_major": 2,
              "version_minor": 0,
              "model_id": "e6dcb0e5c05443b49624530c943c0898"
            }
          },
          "metadata": {}
        },
        {
          "output_type": "display_data",
          "data": {
            "text/plain": [
              "tokenizer.json:   0%|          | 0.00/466k [00:00<?, ?B/s]"
            ],
            "application/vnd.jupyter.widget-view+json": {
              "version_major": 2,
              "version_minor": 0,
              "model_id": "44a6a93592b04ebe916802d702789cac"
            }
          },
          "metadata": {}
        },
        {
          "output_type": "stream",
          "name": "stderr",
          "text": [
            "Device set to use cpu\n"
          ]
        },
        {
          "output_type": "stream",
          "name": "stdout",
          "text": [
            "Total time to process 100 requests for DISTILBERT KD Model:  1.0931005477905273\n"
          ]
        }
      ]
    },
    {
      "cell_type": "code",
      "source": [
        "decrease_in_time = (total_time_bert_model-total_time_distilbert_kd_model)/total_time_bert_model\n",
        "print(decrease_in_time*100)"
      ],
      "metadata": {
        "colab": {
          "base_uri": "https://localhost:8080/"
        },
        "id": "HHhCR70IGmKU",
        "outputId": "e9f6ae11-53be-4bb9-94ce-54f3d8c244c3"
      },
      "execution_count": null,
      "outputs": [
        {
          "output_type": "stream",
          "name": "stdout",
          "text": [
            "46.43458706122162\n"
          ]
        }
      ]
    },
    {
      "cell_type": "markdown",
      "source": [
        "# Trusworthy (Robustness) Evaluation"
      ],
      "metadata": {
        "id": "Y29FtvB3-sFX"
      }
    },
    {
      "cell_type": "markdown",
      "source": [
        "## Load IMDB dataset"
      ],
      "metadata": {
        "id": "Bj9-xbz_-w23"
      }
    },
    {
      "cell_type": "code",
      "source": [
        "from datasets import load_dataset\n",
        "\n",
        "imdb_dataset = load_dataset(\"stanfordnlp/imdb\")\n",
        "imdb_dataset_test = imdb_dataset['test']\n",
        "print(len(imdb_dataset_test))"
      ],
      "metadata": {
        "id": "Jh3tBvIkGvZ6",
        "colab": {
          "base_uri": "https://localhost:8080/",
          "height": 259,
          "referenced_widgets": [
            "97a509151b4145039aa15aec15d18015",
            "167ff0e5d48a4f88bdc13e1db731797f",
            "ce51a81b7c984a5e86aa09c2a185d8c0",
            "366a289ffdd2493d8113dcc149e3c411",
            "f226248393d344d5bf4ac72d7447c3ac",
            "48ded42ba6b744f08942cfae3e5afbcf",
            "1e6d1ef5e90d444bbdb8569dcfa605cb",
            "eae7b4324b2f4598acb623e64089db00",
            "20a7ddc420d64b3c9a65d682367e455b",
            "de0388473d9448a1a9e40ab2592c348c",
            "68a1cbb7343d42fd91ac0c750867503c",
            "634c6718d7b147bb95c4eb02c8c7ad0d",
            "9438c58d86f04c24aac28b55cf734637",
            "2585fff8efb44c6ab7f024cd9b4ec1d8",
            "b27d94b59456483582196dd2a7dc27b1",
            "75c4f47ae88f4d0c88f0b866eb072f4c",
            "d0408696eae24cd391719926f044483a",
            "3a71b4d60c124a358bb300f030f2e0b6",
            "53c8630db40b4ae3a988647f26c636de",
            "e8cffefd0d4d4e02b342cc56b149deda",
            "3322bfb7fc244e25b0f43a4fe2c2851b",
            "c46dee26a6224bd98ea06e3656ad1b10",
            "4906dff0b2944b71a1983e57c1019b6d",
            "2bdc05fb74b6459f8d058052cab8cb7a",
            "e5430a36e04a49f5a93241fb366d0f82",
            "d18e87c8940648029d3838e3c76caee0",
            "597db0d475d74d66a0104d47a19fc338",
            "05507699ad314991b92d0a4a615c1e77",
            "6631aa9a950843ddb07eb7ba7cce54b3",
            "ae56344a7e0240dc818fb19028b1d449",
            "1d51bd6f947c47b789635b7bd4576e6f",
            "77a362639d73411e820f4deed72055a9",
            "d24816f5eb484d82a99c8b663fbe6f82",
            "ff3c262f78ee4ba3b9928f1f847b4f6c",
            "c0a795a3ea7c41bea71f7eebde53431d",
            "b8120bf648954c479ad8cb8b338d1a72",
            "3849c6f059444b1e991c3b96289af8c3",
            "b7f13430087d49199bfab112748836a8",
            "3894355328ad40969a30e487327724db",
            "f3d49c6fe53d4ccdb6ee39e16fc97184",
            "25e73f054195429fb475cb72d3e12b09",
            "f959f14e83084f8a878b49ab633716d8",
            "8dcba2afec344dfcb82d9a37b6a413ac",
            "3cad97d377b449599a589006405b74ce",
            "b92c64ed4c2545bcbcc0d0ed643d8e4e",
            "7303829633fd4a5e918e0e18419cad1b",
            "dac83f7a99204227a582fe51e370d0b5",
            "3c7021c5fae14b0287f274e5b426061e",
            "04064b950b0e4df9999812540903b79e",
            "4e1f425ac5f84e1d9b47692e395f57d8",
            "5bb560ccfbe34f14a1fd83371f592810",
            "ed2166a8cee4499fbce43d6d03e9da38",
            "bb19d736ef9b4d20ba8f03391f35796c",
            "5b0a6d59791547ffaba070b3db6b9f0a",
            "19c8b572b0ee4ad6bd4d59c851b84ee3",
            "05d387d85b024d0eb1e32645ff35b1dd",
            "b665a0ac73ab44b7a27263af89702b94",
            "7c3a1a50a30540ef952696ece3b75c69",
            "9e483f1ce5d94f36a8da829b95207474",
            "bddd93a308004a0d9b0468adfeef81a3",
            "5370accee5b44354bbd646fabd3c2fc8",
            "068a9dfba553490ebed9e705e996ae94",
            "7f0c81e23d6e4c688516a2f0bb5bee61",
            "9627e14db5584b6a8e0b4e9ff442ba68",
            "6aa5de5b6ba54243b69eeedd503ca6a5",
            "14e79fe7afcc449993f3a1b8f10b349e",
            "d311eeda88384151a92ca75294179f13",
            "dd78f117d8964004bde9f59cb6f550e1",
            "4ebbfd4b41f1437dabcbb5093d499dfb",
            "e6541f9a56f14ad98c0f41f08af65844",
            "a7ad32eb724f466a8aa4000bfb92fe9a",
            "610f5600b08f45119eb4fe36182ebcac",
            "5573af8bc42640438966140fbed26508",
            "dcd72ea66e5b421187243fe538257ba1",
            "b7bb5aaedcc14fd3aa32ac6dadc74381",
            "34a9dc1228924cf4bd39787f5e25035e",
            "438f921566304bc598932ed2584d89c6"
          ]
        },
        "outputId": "37a60162-b6a7-4c52-e2b8-6b622edb9c33"
      },
      "execution_count": null,
      "outputs": [
        {
          "output_type": "display_data",
          "data": {
            "text/plain": [
              "README.md:   0%|          | 0.00/7.81k [00:00<?, ?B/s]"
            ],
            "application/vnd.jupyter.widget-view+json": {
              "version_major": 2,
              "version_minor": 0,
              "model_id": "97a509151b4145039aa15aec15d18015"
            }
          },
          "metadata": {}
        },
        {
          "output_type": "display_data",
          "data": {
            "text/plain": [
              "train-00000-of-00001.parquet:   0%|          | 0.00/21.0M [00:00<?, ?B/s]"
            ],
            "application/vnd.jupyter.widget-view+json": {
              "version_major": 2,
              "version_minor": 0,
              "model_id": "634c6718d7b147bb95c4eb02c8c7ad0d"
            }
          },
          "metadata": {}
        },
        {
          "output_type": "display_data",
          "data": {
            "text/plain": [
              "test-00000-of-00001.parquet:   0%|          | 0.00/20.5M [00:00<?, ?B/s]"
            ],
            "application/vnd.jupyter.widget-view+json": {
              "version_major": 2,
              "version_minor": 0,
              "model_id": "4906dff0b2944b71a1983e57c1019b6d"
            }
          },
          "metadata": {}
        },
        {
          "output_type": "display_data",
          "data": {
            "text/plain": [
              "unsupervised-00000-of-00001.parquet:   0%|          | 0.00/42.0M [00:00<?, ?B/s]"
            ],
            "application/vnd.jupyter.widget-view+json": {
              "version_major": 2,
              "version_minor": 0,
              "model_id": "ff3c262f78ee4ba3b9928f1f847b4f6c"
            }
          },
          "metadata": {}
        },
        {
          "output_type": "display_data",
          "data": {
            "text/plain": [
              "Generating train split:   0%|          | 0/25000 [00:00<?, ? examples/s]"
            ],
            "application/vnd.jupyter.widget-view+json": {
              "version_major": 2,
              "version_minor": 0,
              "model_id": "b92c64ed4c2545bcbcc0d0ed643d8e4e"
            }
          },
          "metadata": {}
        },
        {
          "output_type": "display_data",
          "data": {
            "text/plain": [
              "Generating test split:   0%|          | 0/25000 [00:00<?, ? examples/s]"
            ],
            "application/vnd.jupyter.widget-view+json": {
              "version_major": 2,
              "version_minor": 0,
              "model_id": "05d387d85b024d0eb1e32645ff35b1dd"
            }
          },
          "metadata": {}
        },
        {
          "output_type": "display_data",
          "data": {
            "text/plain": [
              "Generating unsupervised split:   0%|          | 0/50000 [00:00<?, ? examples/s]"
            ],
            "application/vnd.jupyter.widget-view+json": {
              "version_major": 2,
              "version_minor": 0,
              "model_id": "d311eeda88384151a92ca75294179f13"
            }
          },
          "metadata": {}
        },
        {
          "output_type": "stream",
          "name": "stdout",
          "text": [
            "25000\n"
          ]
        }
      ]
    },
    {
      "cell_type": "markdown",
      "source": [
        "## Teacher Model evaluation"
      ],
      "metadata": {
        "id": "mJjn5cgJ-0aT"
      }
    },
    {
      "cell_type": "code",
      "source": [
        "model_path = \"/content/bert_sentiment_analysis\"\n",
        "model = AutoModelForSequenceClassification.from_pretrained(model_path)"
      ],
      "metadata": {
        "id": "NY96pSAy29va"
      },
      "execution_count": null,
      "outputs": []
    },
    {
      "cell_type": "code",
      "source": [
        "model.eval()"
      ],
      "metadata": {
        "colab": {
          "base_uri": "https://localhost:8080/"
        },
        "collapsed": true,
        "id": "r8rM_x4nrT8g",
        "outputId": "2ae5ab1b-26c6-4af0-dfe0-11ec1ca9e149"
      },
      "execution_count": null,
      "outputs": [
        {
          "output_type": "execute_result",
          "data": {
            "text/plain": [
              "BertForSequenceClassification(\n",
              "  (bert): BertModel(\n",
              "    (embeddings): BertEmbeddings(\n",
              "      (word_embeddings): Embedding(30522, 768, padding_idx=0)\n",
              "      (position_embeddings): Embedding(512, 768)\n",
              "      (token_type_embeddings): Embedding(2, 768)\n",
              "      (LayerNorm): LayerNorm((768,), eps=1e-12, elementwise_affine=True)\n",
              "      (dropout): Dropout(p=0.1, inplace=False)\n",
              "    )\n",
              "    (encoder): BertEncoder(\n",
              "      (layer): ModuleList(\n",
              "        (0-11): 12 x BertLayer(\n",
              "          (attention): BertAttention(\n",
              "            (self): BertSdpaSelfAttention(\n",
              "              (query): Linear(in_features=768, out_features=768, bias=True)\n",
              "              (key): Linear(in_features=768, out_features=768, bias=True)\n",
              "              (value): Linear(in_features=768, out_features=768, bias=True)\n",
              "              (dropout): Dropout(p=0.1, inplace=False)\n",
              "            )\n",
              "            (output): BertSelfOutput(\n",
              "              (dense): Linear(in_features=768, out_features=768, bias=True)\n",
              "              (LayerNorm): LayerNorm((768,), eps=1e-12, elementwise_affine=True)\n",
              "              (dropout): Dropout(p=0.1, inplace=False)\n",
              "            )\n",
              "          )\n",
              "          (intermediate): BertIntermediate(\n",
              "            (dense): Linear(in_features=768, out_features=3072, bias=True)\n",
              "            (intermediate_act_fn): GELUActivation()\n",
              "          )\n",
              "          (output): BertOutput(\n",
              "            (dense): Linear(in_features=3072, out_features=768, bias=True)\n",
              "            (LayerNorm): LayerNorm((768,), eps=1e-12, elementwise_affine=True)\n",
              "            (dropout): Dropout(p=0.1, inplace=False)\n",
              "          )\n",
              "        )\n",
              "      )\n",
              "    )\n",
              "    (pooler): BertPooler(\n",
              "      (dense): Linear(in_features=768, out_features=768, bias=True)\n",
              "      (activation): Tanh()\n",
              "    )\n",
              "  )\n",
              "  (dropout): Dropout(p=0.1, inplace=False)\n",
              "  (classifier): Linear(in_features=768, out_features=2, bias=True)\n",
              ")"
            ]
          },
          "metadata": {},
          "execution_count": 48
        }
      ]
    },
    {
      "cell_type": "code",
      "source": [
        "def preprocess(batch):\n",
        "  return bert_tokenizer(batch[\"text\"],padding=\"max_length\", truncation=True, return_tensors=\"pt\")"
      ],
      "metadata": {
        "id": "Q1D1geK03Ige"
      },
      "execution_count": null,
      "outputs": []
    },
    {
      "cell_type": "code",
      "source": [
        "from sklearn.metrics import accuracy_score, precision_recall_fscore_support\n",
        "\n",
        "y_true = []\n",
        "y_pred = []\n",
        "\n",
        "for sample in imdb_dataset_test:\n",
        "    inputs = preprocess(sample)\n",
        "    input_ids = inputs[\"input_ids\"].squeeze(0)\n",
        "    attention_mask = inputs[\"attention_mask\"].squeeze(0)\n",
        "\n",
        "    with torch.no_grad():\n",
        "        outputs = model(input_ids.unsqueeze(0), attention_mask=attention_mask.unsqueeze(0))\n",
        "        logits = outputs.logits\n",
        "        prediction = torch.argmax(logits, dim=1).item()\n",
        "\n",
        "    y_pred.append(prediction)\n",
        "    y_true.append(torch.tensor([sample[\"label\"]]))\n",
        "\n",
        "\n",
        "accuracy = accuracy_score(y_true, y_pred)\n",
        "precision, recall, f1, _ = precision_recall_fscore_support(y_true, y_pred, average=\"macro\")"
      ],
      "metadata": {
        "id": "BMpbhB233Y_w"
      },
      "execution_count": null,
      "outputs": []
    },
    {
      "cell_type": "code",
      "source": [
        "bert_accuracy = accuracy*100\n",
        "bert_precision = precision*100\n",
        "bert_recall = recall*100\n",
        "bert_f1 = f1*100"
      ],
      "metadata": {
        "id": "Ob0aa_ka8-7L"
      },
      "execution_count": null,
      "outputs": []
    },
    {
      "cell_type": "code",
      "source": [
        "print(f\"Accuracy:  {bert_accuracy:.4f}\")\n",
        "print(f\"Precision: {bert_precision:.4f}\")\n",
        "print(f\"Recall:    {bert_recall:.4f}\")\n",
        "print(f\"F1 Score:  {bert_f1:.4f}\")"
      ],
      "metadata": {
        "colab": {
          "base_uri": "https://localhost:8080/"
        },
        "id": "blFVVOsYpmeL",
        "outputId": "71774a1f-9a69-4cd2-c081-d5f84201aa7b"
      },
      "execution_count": null,
      "outputs": [
        {
          "output_type": "stream",
          "name": "stdout",
          "text": [
            "Accuracy:  86.0840\n",
            "Precision: 86.9774\n",
            "Recall:    86.0840\n",
            "F1 Score:  85.9994\n"
          ]
        }
      ]
    },
    {
      "cell_type": "markdown",
      "source": [
        "## Student Model Evaluation"
      ],
      "metadata": {
        "id": "12HOo8P0-8UI"
      }
    },
    {
      "cell_type": "code",
      "source": [
        "model_path = \"/content/distilbert_sentiment_analysis\"\n",
        "model = AutoModelForSequenceClassification.from_pretrained(model_path)"
      ],
      "metadata": {
        "colab": {
          "base_uri": "https://localhost:8080/"
        },
        "id": "kDfHT5njqdkD",
        "outputId": "616112d7-24ce-4de7-e259-965d42e62ca2"
      },
      "execution_count": null,
      "outputs": [
        {
          "output_type": "stream",
          "name": "stderr",
          "text": [
            "Some weights of DistilBertForSequenceClassification were not initialized from the model checkpoint at distilbert/distilbert-base-uncased and are newly initialized: ['classifier.bias', 'classifier.weight', 'pre_classifier.bias', 'pre_classifier.weight']\n",
            "You should probably TRAIN this model on a down-stream task to be able to use it for predictions and inference.\n"
          ]
        }
      ]
    },
    {
      "cell_type": "code",
      "source": [
        "model.eval()"
      ],
      "metadata": {
        "colab": {
          "base_uri": "https://localhost:8080/"
        },
        "id": "cFyBlgACthxq",
        "outputId": "ce9fb6e6-88e0-49a5-cb13-8fb692bd2e25"
      },
      "execution_count": null,
      "outputs": [
        {
          "output_type": "execute_result",
          "data": {
            "text/plain": [
              "DistilBertForSequenceClassification(\n",
              "  (distilbert): DistilBertModel(\n",
              "    (embeddings): Embeddings(\n",
              "      (word_embeddings): Embedding(30522, 768, padding_idx=0)\n",
              "      (position_embeddings): Embedding(512, 768)\n",
              "      (LayerNorm): LayerNorm((768,), eps=1e-12, elementwise_affine=True)\n",
              "      (dropout): Dropout(p=0.1, inplace=False)\n",
              "    )\n",
              "    (transformer): Transformer(\n",
              "      (layer): ModuleList(\n",
              "        (0-5): 6 x TransformerBlock(\n",
              "          (attention): DistilBertSdpaAttention(\n",
              "            (dropout): Dropout(p=0.1, inplace=False)\n",
              "            (q_lin): lora.Linear(\n",
              "              (base_layer): Linear(in_features=768, out_features=768, bias=True)\n",
              "              (lora_dropout): ModuleDict(\n",
              "                (default): Dropout(p=0.1, inplace=False)\n",
              "              )\n",
              "              (lora_A): ModuleDict(\n",
              "                (default): Linear(in_features=768, out_features=8, bias=False)\n",
              "              )\n",
              "              (lora_B): ModuleDict(\n",
              "                (default): Linear(in_features=8, out_features=768, bias=False)\n",
              "              )\n",
              "              (lora_embedding_A): ParameterDict()\n",
              "              (lora_embedding_B): ParameterDict()\n",
              "              (lora_magnitude_vector): ModuleDict()\n",
              "            )\n",
              "            (k_lin): lora.Linear(\n",
              "              (base_layer): Linear(in_features=768, out_features=768, bias=True)\n",
              "              (lora_dropout): ModuleDict(\n",
              "                (default): Dropout(p=0.1, inplace=False)\n",
              "              )\n",
              "              (lora_A): ModuleDict(\n",
              "                (default): Linear(in_features=768, out_features=8, bias=False)\n",
              "              )\n",
              "              (lora_B): ModuleDict(\n",
              "                (default): Linear(in_features=8, out_features=768, bias=False)\n",
              "              )\n",
              "              (lora_embedding_A): ParameterDict()\n",
              "              (lora_embedding_B): ParameterDict()\n",
              "              (lora_magnitude_vector): ModuleDict()\n",
              "            )\n",
              "            (v_lin): lora.Linear(\n",
              "              (base_layer): Linear(in_features=768, out_features=768, bias=True)\n",
              "              (lora_dropout): ModuleDict(\n",
              "                (default): Dropout(p=0.1, inplace=False)\n",
              "              )\n",
              "              (lora_A): ModuleDict(\n",
              "                (default): Linear(in_features=768, out_features=8, bias=False)\n",
              "              )\n",
              "              (lora_B): ModuleDict(\n",
              "                (default): Linear(in_features=8, out_features=768, bias=False)\n",
              "              )\n",
              "              (lora_embedding_A): ParameterDict()\n",
              "              (lora_embedding_B): ParameterDict()\n",
              "              (lora_magnitude_vector): ModuleDict()\n",
              "            )\n",
              "            (out_lin): lora.Linear(\n",
              "              (base_layer): Linear(in_features=768, out_features=768, bias=True)\n",
              "              (lora_dropout): ModuleDict(\n",
              "                (default): Dropout(p=0.1, inplace=False)\n",
              "              )\n",
              "              (lora_A): ModuleDict(\n",
              "                (default): Linear(in_features=768, out_features=8, bias=False)\n",
              "              )\n",
              "              (lora_B): ModuleDict(\n",
              "                (default): Linear(in_features=8, out_features=768, bias=False)\n",
              "              )\n",
              "              (lora_embedding_A): ParameterDict()\n",
              "              (lora_embedding_B): ParameterDict()\n",
              "              (lora_magnitude_vector): ModuleDict()\n",
              "            )\n",
              "          )\n",
              "          (sa_layer_norm): LayerNorm((768,), eps=1e-12, elementwise_affine=True)\n",
              "          (ffn): FFN(\n",
              "            (dropout): Dropout(p=0.1, inplace=False)\n",
              "            (lin1): lora.Linear(\n",
              "              (base_layer): Linear(in_features=768, out_features=3072, bias=True)\n",
              "              (lora_dropout): ModuleDict(\n",
              "                (default): Dropout(p=0.1, inplace=False)\n",
              "              )\n",
              "              (lora_A): ModuleDict(\n",
              "                (default): Linear(in_features=768, out_features=8, bias=False)\n",
              "              )\n",
              "              (lora_B): ModuleDict(\n",
              "                (default): Linear(in_features=8, out_features=3072, bias=False)\n",
              "              )\n",
              "              (lora_embedding_A): ParameterDict()\n",
              "              (lora_embedding_B): ParameterDict()\n",
              "              (lora_magnitude_vector): ModuleDict()\n",
              "            )\n",
              "            (lin2): lora.Linear(\n",
              "              (base_layer): Linear(in_features=3072, out_features=768, bias=True)\n",
              "              (lora_dropout): ModuleDict(\n",
              "                (default): Dropout(p=0.1, inplace=False)\n",
              "              )\n",
              "              (lora_A): ModuleDict(\n",
              "                (default): Linear(in_features=3072, out_features=8, bias=False)\n",
              "              )\n",
              "              (lora_B): ModuleDict(\n",
              "                (default): Linear(in_features=8, out_features=768, bias=False)\n",
              "              )\n",
              "              (lora_embedding_A): ParameterDict()\n",
              "              (lora_embedding_B): ParameterDict()\n",
              "              (lora_magnitude_vector): ModuleDict()\n",
              "            )\n",
              "            (activation): GELUActivation()\n",
              "          )\n",
              "          (output_layer_norm): LayerNorm((768,), eps=1e-12, elementwise_affine=True)\n",
              "        )\n",
              "      )\n",
              "    )\n",
              "  )\n",
              "  (pre_classifier): ModulesToSaveWrapper(\n",
              "    (original_module): Linear(in_features=768, out_features=768, bias=True)\n",
              "    (modules_to_save): ModuleDict(\n",
              "      (default): Linear(in_features=768, out_features=768, bias=True)\n",
              "    )\n",
              "  )\n",
              "  (classifier): ModulesToSaveWrapper(\n",
              "    (original_module): Linear(in_features=768, out_features=2, bias=True)\n",
              "    (modules_to_save): ModuleDict(\n",
              "      (default): Linear(in_features=768, out_features=2, bias=True)\n",
              "    )\n",
              "  )\n",
              "  (dropout): Dropout(p=0.2, inplace=False)\n",
              ")"
            ]
          },
          "metadata": {},
          "execution_count": 54
        }
      ]
    },
    {
      "cell_type": "code",
      "source": [
        "def preprocess(batch):\n",
        "  return distilbert_tokenizer(batch[\"text\"],padding=\"max_length\", truncation=True, return_tensors=\"pt\")"
      ],
      "metadata": {
        "id": "-gfS5kTVtmVf"
      },
      "execution_count": null,
      "outputs": []
    },
    {
      "cell_type": "code",
      "source": [
        "from sklearn.metrics import accuracy_score, precision_recall_fscore_support\n",
        "\n",
        "y_true = []\n",
        "y_pred = []\n",
        "\n",
        "for sample in imdb_dataset_test:\n",
        "    inputs = preprocess(sample)\n",
        "    input_ids = inputs[\"input_ids\"].squeeze(0)\n",
        "    attention_mask = inputs[\"attention_mask\"].squeeze(0)\n",
        "\n",
        "    with torch.no_grad():\n",
        "        outputs = model(input_ids.unsqueeze(0), attention_mask=attention_mask.unsqueeze(0))\n",
        "        logits = outputs.logits\n",
        "        prediction = torch.argmax(logits, dim=1).item()\n",
        "\n",
        "    y_pred.append(prediction)\n",
        "    y_true.append(torch.tensor([sample[\"label\"]]))\n",
        "\n",
        "\n",
        "accuracy = accuracy_score(y_true, y_pred)\n",
        "precision, recall, f1, _ = precision_recall_fscore_support(y_true, y_pred, average=\"macro\")"
      ],
      "metadata": {
        "id": "oSIYWJp3t0-9"
      },
      "execution_count": null,
      "outputs": []
    },
    {
      "cell_type": "code",
      "source": [
        "distilbert_accuracy = accuracy*100\n",
        "distilbert_precision = precision*100\n",
        "distilbert_recall = recall*100\n",
        "distilbert_f1 = f1*100"
      ],
      "metadata": {
        "id": "dHQMaSAot5jJ"
      },
      "execution_count": null,
      "outputs": []
    },
    {
      "cell_type": "code",
      "source": [
        "print(f\"Accuracy:  {distilbert_accuracy:.4f}\")\n",
        "print(f\"Precision: {distilbert_precision:.4f}\")\n",
        "print(f\"Recall:    {distilbert_recall:.4f}\")\n",
        "print(f\"F1 Score:  {distilbert_f1:.4f}\")"
      ],
      "metadata": {
        "colab": {
          "base_uri": "https://localhost:8080/"
        },
        "id": "XQ2CtOvGt6zS",
        "outputId": "ea96f157-cda2-4d8c-eafa-d5725a32d57a"
      },
      "execution_count": null,
      "outputs": [
        {
          "output_type": "stream",
          "name": "stdout",
          "text": [
            "Accuracy:  83.1120\n",
            "Precision: 84.7049\n",
            "Recall:    83.1120\n",
            "F1 Score:  82.9160\n"
          ]
        }
      ]
    },
    {
      "cell_type": "markdown",
      "source": [
        "## Distilled Model Evaluation"
      ],
      "metadata": {
        "id": "wZmb4Bc-_BKZ"
      }
    },
    {
      "cell_type": "code",
      "source": [
        "model_path = \"/content/distilbert_kd_sentiment_analysis\"\n",
        "model = AutoModelForSequenceClassification.from_pretrained(model_path)"
      ],
      "metadata": {
        "id": "dVEEqHKkuSFD"
      },
      "execution_count": null,
      "outputs": []
    },
    {
      "cell_type": "code",
      "source": [
        "model.eval()"
      ],
      "metadata": {
        "colab": {
          "base_uri": "https://localhost:8080/"
        },
        "id": "SAvO4zx6uVGH",
        "outputId": "4452514c-8897-4232-f083-1f5a5f83a7b4"
      },
      "execution_count": null,
      "outputs": [
        {
          "output_type": "execute_result",
          "data": {
            "text/plain": [
              "DistilBertForSequenceClassification(\n",
              "  (distilbert): DistilBertModel(\n",
              "    (embeddings): Embeddings(\n",
              "      (word_embeddings): Embedding(30522, 768, padding_idx=0)\n",
              "      (position_embeddings): Embedding(512, 768)\n",
              "      (LayerNorm): LayerNorm((768,), eps=1e-12, elementwise_affine=True)\n",
              "      (dropout): Dropout(p=0.1, inplace=False)\n",
              "    )\n",
              "    (transformer): Transformer(\n",
              "      (layer): ModuleList(\n",
              "        (0-5): 6 x TransformerBlock(\n",
              "          (attention): DistilBertSdpaAttention(\n",
              "            (dropout): Dropout(p=0.1, inplace=False)\n",
              "            (q_lin): Linear(in_features=768, out_features=768, bias=True)\n",
              "            (k_lin): Linear(in_features=768, out_features=768, bias=True)\n",
              "            (v_lin): Linear(in_features=768, out_features=768, bias=True)\n",
              "            (out_lin): Linear(in_features=768, out_features=768, bias=True)\n",
              "          )\n",
              "          (sa_layer_norm): LayerNorm((768,), eps=1e-12, elementwise_affine=True)\n",
              "          (ffn): FFN(\n",
              "            (dropout): Dropout(p=0.1, inplace=False)\n",
              "            (lin1): Linear(in_features=768, out_features=3072, bias=True)\n",
              "            (lin2): Linear(in_features=3072, out_features=768, bias=True)\n",
              "            (activation): GELUActivation()\n",
              "          )\n",
              "          (output_layer_norm): LayerNorm((768,), eps=1e-12, elementwise_affine=True)\n",
              "        )\n",
              "      )\n",
              "    )\n",
              "  )\n",
              "  (pre_classifier): Linear(in_features=768, out_features=768, bias=True)\n",
              "  (classifier): Linear(in_features=768, out_features=2, bias=True)\n",
              "  (dropout): Dropout(p=0.2, inplace=False)\n",
              ")"
            ]
          },
          "metadata": {},
          "execution_count": 60
        }
      ]
    },
    {
      "cell_type": "code",
      "source": [
        "from sklearn.metrics import accuracy_score, precision_recall_fscore_support\n",
        "\n",
        "y_true = []\n",
        "y_pred = []\n",
        "\n",
        "for sample in imdb_dataset_test:\n",
        "    inputs = preprocess(sample)\n",
        "    input_ids = inputs[\"input_ids\"].squeeze(0)\n",
        "    attention_mask = inputs[\"attention_mask\"].squeeze(0)\n",
        "\n",
        "    with torch.no_grad():\n",
        "        outputs = model(input_ids.unsqueeze(0), attention_mask=attention_mask.unsqueeze(0))\n",
        "        logits = outputs.logits\n",
        "        prediction = torch.argmax(logits, dim=1).item()\n",
        "\n",
        "    y_pred.append(prediction)\n",
        "    y_true.append(torch.tensor([sample[\"label\"]]))\n",
        "\n",
        "\n",
        "accuracy = accuracy_score(y_true, y_pred)\n",
        "precision, recall, f1, _ = precision_recall_fscore_support(y_true, y_pred, average=\"macro\")"
      ],
      "metadata": {
        "id": "QMcwXTrWupMQ"
      },
      "execution_count": 62,
      "outputs": []
    },
    {
      "cell_type": "code",
      "source": [
        "distilbert_kd_accuracy = accuracy*100\n",
        "distilbert_kd_precision = precision*100\n",
        "distilbert_kd_recall = recall*100\n",
        "distilbert_kd_f1 = f1*100"
      ],
      "metadata": {
        "id": "3j33iAlhusBg"
      },
      "execution_count": 63,
      "outputs": []
    },
    {
      "cell_type": "code",
      "source": [
        "print(f\"Accuracy:  {distilbert_kd_accuracy:.4f}\")\n",
        "print(f\"Precision: {distilbert_kd_precision:.4f}\")\n",
        "print(f\"Recall:    {distilbert_kd_recall:.4f}\")\n",
        "print(f\"F1 Score:  {distilbert_kd_f1:.4f}\")"
      ],
      "metadata": {
        "id": "_a0Z0keLut3O",
        "colab": {
          "base_uri": "https://localhost:8080/",
          "height": 0
        },
        "outputId": "4f19aed8-ab02-430b-bfb0-5fc02002406f"
      },
      "execution_count": 64,
      "outputs": [
        {
          "output_type": "stream",
          "name": "stdout",
          "text": [
            "Accuracy:  88.7240\n",
            "Precision: 88.8967\n",
            "Recall:    88.7240\n",
            "F1 Score:  88.7115\n"
          ]
        }
      ]
    },
    {
      "cell_type": "markdown",
      "source": [
        "## Comparing Results"
      ],
      "metadata": {
        "id": "R8jHNtmH_PI6"
      }
    },
    {
      "cell_type": "markdown",
      "source": [
        "### Accuracy Plot"
      ],
      "metadata": {
        "id": "vb9mqW7V_SpZ"
      }
    },
    {
      "cell_type": "code",
      "source": [
        "import numpy as np\n",
        "import matplotlib.pyplot as plt\n",
        "\n",
        "models = [\"BERT Fine-Tuned\", \"DistilBERT Fine-Tuned\", \"DistilBERT KD\"]\n",
        "accuracy = [bert_accuracy, distilbert_accuracy, distilbert_kd_accuracy]\n",
        "colors = ['orange', 'cyan', 'green']\n",
        "\n",
        "x = np.arange(len(models))\n",
        "width = 0.35\n",
        "\n",
        "fig, ax = plt.subplots(figsize=(8, 6))\n",
        "\n",
        "bars = ax.bar(x - width/2, accuracy, width, label='Accuracy', color=colors)\n",
        "\n",
        "\n",
        "for bar in bars:\n",
        "    height = bar.get_height()\n",
        "    ax.text(bar.get_x() + bar.get_width()/2, height, f'{height:.2f}', ha='center', va='bottom')\n",
        "\n",
        "ax.set_xlabel(\"Models\")\n",
        "ax.set_ylabel(\"Score\")\n",
        "ax.set_title(\"Comparison of Model Accuracy\")\n",
        "ax.set_xticks(x)\n",
        "ax.set_xticklabels(models)\n",
        "ax.legend()\n",
        "\n",
        "plt.show()"
      ],
      "metadata": {
        "id": "k6eynjI3vHNm",
        "colab": {
          "base_uri": "https://localhost:8080/",
          "height": 564
        },
        "outputId": "7350ca8d-1ef0-47b7-a4e0-8e385744e19a"
      },
      "execution_count": 65,
      "outputs": [
        {
          "output_type": "display_data",
          "data": {
            "text/plain": [
              "<Figure size 800x600 with 1 Axes>"
            ],
            "image/png": "[encoded data removed]"
          },
          "metadata": {}
        }
      ]
    },
    {
      "cell_type": "markdown",
      "source": [
        "### Precision Plot"
      ],
      "metadata": {
        "id": "BlOzvu6p_YRM"
      }
    },
    {
      "cell_type": "code",
      "source": [
        "import numpy as np\n",
        "import matplotlib.pyplot as plt\n",
        "\n",
        "models = [\"BERT Fine-Tuned\", \"DistilBERT Fine-Tuned\", \"DistilBERT KD\"]\n",
        "precision = [bert_precision, distilbert_precision, distilbert_kd_precision]\n",
        "colors = ['orange', 'cyan', 'green']\n",
        "\n",
        "x = np.arange(len(models))\n",
        "width = 0.35\n",
        "\n",
        "fig, ax = plt.subplots(figsize=(8, 6))\n",
        "\n",
        "bars = ax.bar(x - width/2, precision, width, label='Precision', color=colors)\n",
        "\n",
        "\n",
        "for bar in bars:\n",
        "    height = bar.get_height()\n",
        "    ax.text(bar.get_x() + bar.get_width()/2, height, f'{height:.2f}', ha='center', va='bottom')\n",
        "\n",
        "ax.set_xlabel(\"Models\")\n",
        "ax.set_ylabel(\"Score\")\n",
        "ax.set_title(\"Comparison of Model Precision\")\n",
        "ax.set_xticks(x)\n",
        "ax.set_xticklabels(models)\n",
        "ax.legend()\n",
        "\n",
        "plt.show()"
      ],
      "metadata": {
        "id": "mUXfZ2wGvRNq",
        "colab": {
          "base_uri": "https://localhost:8080/",
          "height": 564
        },
        "outputId": "74aaae5c-fdaf-4dd8-c8ef-14df1baaf9b6"
      },
      "execution_count": 66,
      "outputs": [
        {
          "output_type": "display_data",
          "data": {
            "text/plain": [
              "<Figure size 800x600 with 1 Axes>"
            ],
            "image/png": "[encoded data removed]"
          },
          "metadata": {}
        }
      ]
    },
    {
      "cell_type": "markdown",
      "source": [
        "### Recall Plot"
      ],
      "metadata": {
        "id": "ZKlWZL6B_bRZ"
      }
    },
    {
      "cell_type": "code",
      "source": [
        "import numpy as np\n",
        "import matplotlib.pyplot as plt\n",
        "\n",
        "models = [\"BERT Fine-Tuned\", \"DistilBERT Fine-Tuned\", \"DistilBERT KD\"]\n",
        "recall = [bert_recall, distilbert_recall, distilbert_kd_recall]\n",
        "colors = ['orange', 'cyan', 'green']\n",
        "\n",
        "x = np.arange(len(models))\n",
        "width = 0.35\n",
        "\n",
        "fig, ax = plt.subplots(figsize=(8, 6))\n",
        "\n",
        "bars = ax.bar(x - width/2, recall, width, label='Recall', color=colors)\n",
        "\n",
        "\n",
        "for bar in bars:\n",
        "    height = bar.get_height()\n",
        "    ax.text(bar.get_x() + bar.get_width()/2, height, f'{height:.2f}', ha='center', va='bottom')\n",
        "\n",
        "ax.set_xlabel(\"Models\")\n",
        "ax.set_ylabel(\"Score\")\n",
        "ax.set_title(\"Comparison of Model Recall\")\n",
        "ax.set_xticks(x)\n",
        "ax.set_xticklabels(models)\n",
        "ax.legend()\n",
        "\n",
        "plt.show()"
      ],
      "metadata": {
        "id": "hqxgZBcbvUKO",
        "colab": {
          "base_uri": "https://localhost:8080/",
          "height": 564
        },
        "outputId": "9c06e1fe-629d-4d2e-9b2c-cbdd3d98a235"
      },
      "execution_count": 67,
      "outputs": [
        {
          "output_type": "display_data",
          "data": {
            "text/plain": [
              "<Figure size 800x600 with 1 Axes>"
            ],
            "image/png": "[encoded data removed]"
          },
          "metadata": {}
        }
      ]
    },
    {
      "cell_type": "markdown",
      "source": [
        "### f1-score Plot"
      ],
      "metadata": {
        "id": "0PIJT2P5_dc9"
      }
    },
    {
      "cell_type": "code",
      "source": [
        "models = [\"BERT Fine-Tuned\", \"DistilBERT Fine-Tuned\", \"DistilBERT KD\"]\n",
        "f1_score = [bert_f1, distilbert_f1, distilbert_kd_f1]\n",
        "colors = ['orange', 'cyan', 'green']\n",
        "\n",
        "x = np.arange(len(models))\n",
        "width = 0.35\n",
        "\n",
        "fig, ax = plt.subplots(figsize=(8, 6))\n",
        "\n",
        "bars = ax.bar(x + width/2, f1_score, width, label='F1-Score', color=colors)\n",
        "\n",
        "for bar in bars:\n",
        "    height = bar.get_height()\n",
        "    ax.text(bar.get_x() + bar.get_width()/2, height, f'{height:.2f}', ha='center', va='bottom')\n",
        "\n",
        "ax.set_xlabel(\"Models\")\n",
        "ax.set_ylabel(\"Score\")\n",
        "ax.set_title(\"Comparison of Model F1-Score\")\n",
        "ax.set_xticks(x)\n",
        "ax.set_xticklabels(models)\n",
        "ax.legend()\n",
        "\n",
        "plt.show()"
      ],
      "metadata": {
        "id": "6SNC6fJMvOHY",
        "colab": {
          "base_uri": "https://localhost:8080/",
          "height": 564
        },
        "outputId": "00745647-9dcf-4a43-8903-4e645c440dcb"
      },
      "execution_count": 68,
      "outputs": [
        {
          "output_type": "display_data",
          "data": {
            "text/plain": [
              "<Figure size 800x600 with 1 Axes>"
            ],
            "image/png": "[encoded data removed]"
          },
          "metadata": {}
        }
      ]
    },
    {
      "cell_type": "code",
      "source": [],
      "metadata": {
        "id": "Q1vus6eEwnka"
      },
      "execution_count": 68,
      "outputs": []
    }
  ]
}